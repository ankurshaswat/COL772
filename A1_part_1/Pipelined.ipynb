{
 "cells": [
  {
   "cell_type": "code",
   "execution_count": 1,
   "metadata": {
    "ExecuteTime": {
     "end_time": "2019-01-28T17:22:54.427820Z",
     "start_time": "2019-01-28T17:22:54.424384Z"
    }
   },
   "outputs": [],
   "source": [
    "train_path = 'data/train.json'\n",
    "dev_path = 'data/dev.json'"
   ]
  },
  {
   "cell_type": "code",
   "execution_count": 2,
   "metadata": {
    "ExecuteTime": {
     "end_time": "2019-01-28T17:22:55.105481Z",
     "start_time": "2019-01-28T17:22:55.100142Z"
    }
   },
   "outputs": [],
   "source": [
    "import json\n",
    "\n",
    "def read_file(path):\n",
    "    data_X = []\n",
    "    data_Y = []\n",
    "    with open(path, 'r') as data_file:\n",
    "        line = data_file.readline()\n",
    "        while line:\n",
    "            data = json.loads(line)\n",
    "            data_X.append(data['review'])\n",
    "            data_Y.append(data['ratings'])\n",
    "            line = data_file.readline()\n",
    "    return data_X,data_Y"
   ]
  },
  {
   "cell_type": "code",
   "execution_count": 3,
   "metadata": {
    "ExecuteTime": {
     "end_time": "2019-01-28T17:22:59.956438Z",
     "start_time": "2019-01-28T17:22:55.676294Z"
    }
   },
   "outputs": [],
   "source": [
    "X_train,Y_train = read_file(train_path)\n",
    "X_dev,Y_dev = read_file(dev_path)"
   ]
  },
  {
   "cell_type": "code",
   "execution_count": 4,
   "metadata": {
    "ExecuteTime": {
     "end_time": "2019-01-28T17:23:01.064002Z",
     "start_time": "2019-01-28T17:23:00.561865Z"
    }
   },
   "outputs": [],
   "source": [
    "import string\n",
    "from nltk import wordpunct_tokenize\n",
    "\n",
    "translator = str.maketrans(string.punctuation, ' '*len(string.punctuation)) #map punctuation to space\n",
    "\n",
    "def tokenize(sentence):\n",
    "    removed_puncts = sentence.translate(translator)\n",
    "    return wordpunct_tokenize(removed_puncts)"
   ]
  },
  {
   "cell_type": "code",
   "execution_count": 10,
   "metadata": {
    "ExecuteTime": {
     "end_time": "2019-01-28T17:36:15.429970Z",
     "start_time": "2019-01-28T17:36:15.421199Z"
    }
   },
   "outputs": [],
   "source": [
    "from nltk.corpus import stopwords\n",
    "\n",
    "from sklearn.pipeline import Pipeline\n",
    "from sklearn.feature_extraction.text import TfidfVectorizer\n",
    "from sklearn.naive_bayes import MultinomialNB\n",
    "from sklearn.linear_model import LogisticRegression,SGDClassifier\n",
    "from sklearn.ensemble import RandomForestClassifier\n",
    "\n",
    "model = Pipeline([('pp_vec', TfidfVectorizer(strip_accents='ascii',\n",
    "                                             lowercase=True,\n",
    "                                             tokenizer=tokenize,\n",
    "                                             stop_words=stopwords.words('english'),\n",
    "                                             ngram_range=(1,1),\n",
    "#                                              binary=True\n",
    "#                                              norm='l1',\n",
    "                                             norm='l2',\n",
    "#                                              norm=None,\n",
    "                                             analyzer='word')),\n",
    "#                      ('rand_forest', RandomForestClassifier(verbose=True,\n",
    "#                                                             n_jobs=3)),])\n",
    "#                      ('sgd', SGDClassifier(loss='modified_huber',\n",
    "#                                            penalty='elasticnet',\n",
    "#                                            penalty='l2',\n",
    "#                                            learning_rate='optimal',\n",
    "#                                            class_weight='balanced',\n",
    "#                                            n_jobs=3,\n",
    "#                                            verbose=True))])\n",
    "#                      ('multNB', MultinomialNB())])\n",
    "                  ('lin_reg', LogisticRegression(verbose=1,multi_class='multinomial',solver='saga',n_jobs=3,class_weight='balanced'))])"
   ]
  },
  {
   "cell_type": "code",
   "execution_count": 11,
   "metadata": {
    "ExecuteTime": {
     "end_time": "2019-01-28T17:41:48.607249Z",
     "start_time": "2019-01-28T17:36:16.040942Z"
    }
   },
   "outputs": [
    {
     "name": "stderr",
     "output_type": "stream",
     "text": [
      "[Parallel(n_jobs=3)]: Using backend ThreadingBackend with 3 concurrent workers.\n"
     ]
    },
    {
     "name": "stdout",
     "output_type": "stream",
     "text": [
      "convergence after 47 epochs took 239 seconds\n"
     ]
    },
    {
     "name": "stderr",
     "output_type": "stream",
     "text": [
      "[Parallel(n_jobs=3)]: Done   1 out of   1 | elapsed:  4.0min finished\n"
     ]
    },
    {
     "data": {
      "text/plain": [
       "Pipeline(memory=None,\n",
       "     steps=[('pp_vec', TfidfVectorizer(analyzer='word', binary=False, decode_error='strict',\n",
       "        dtype=<class 'numpy.float64'>, encoding='utf-8', input='content',\n",
       "        lowercase=True, max_df=1.0, max_features=None, min_df=1,\n",
       "        ngram_range=(1, 1), norm='l2', preprocessor=None, smooth_idf=True...2',\n",
       "          random_state=None, solver='saga', tol=0.0001, verbose=1,\n",
       "          warm_start=False))])"
      ]
     },
     "execution_count": 11,
     "metadata": {},
     "output_type": "execute_result"
    }
   ],
   "source": [
    "model.fit(X_train, Y_train)"
   ]
  },
  {
   "cell_type": "code",
   "execution_count": 12,
   "metadata": {
    "ExecuteTime": {
     "end_time": "2019-01-28T17:42:21.356625Z",
     "start_time": "2019-01-28T17:42:03.707103Z"
    }
   },
   "outputs": [],
   "source": [
    "predicted = model.predict(X_dev)"
   ]
  },
  {
   "cell_type": "code",
   "execution_count": 29,
   "metadata": {
    "ExecuteTime": {
     "end_time": "2019-01-28T17:44:50.531726Z",
     "start_time": "2019-01-28T17:44:50.464052Z"
    }
   },
   "outputs": [
    {
     "data": {
      "text/plain": [
       "0.2686300573016148"
      ]
     },
     "execution_count": 29,
     "metadata": {},
     "output_type": "execute_result"
    }
   ],
   "source": [
    "from sklearn.metrics import f1_score\n",
    "f1_score(Y_dev, predicted, average='weighted')  "
   ]
  },
  {
   "cell_type": "code",
   "execution_count": 30,
   "metadata": {
    "ExecuteTime": {
     "end_time": "2019-01-28T17:44:50.901603Z",
     "start_time": "2019-01-28T17:44:50.609645Z"
    }
   },
   "outputs": [
    {
     "data": {
      "text/plain": [
       "<matplotlib.colorbar.Colorbar at 0x7f17de31f6a0>"
      ]
     },
     "execution_count": 30,
     "metadata": {},
     "output_type": "execute_result"
    },
    {
     "data": {
      "image/png": "[encoded data removed]",
      "text/plain": [
       "<Figure size 288x288 with 2 Axes>"
      ]
     },
     "metadata": {
      "needs_background": "light"
     },
     "output_type": "display_data"
    }
   ],
   "source": [
    "import matplotlib.pyplot as plt\n",
    "from sklearn.metrics import confusion_matrix\n",
    "\n",
    "m=confusion_matrix(Y_dev,predicted)\n",
    "\n",
    "plt.matshow(m)\n",
    "plt.colorbar()"
   ]
  },
  {
   "cell_type": "code",
   "execution_count": null,
   "metadata": {},
   "outputs": [],
   "source": []
  },
  {
   "cell_type": "code",
   "execution_count": null,
   "metadata": {},
   "outputs": [],
   "source": []
  }
 ],
 "metadata": {
  "kernelspec": {
   "display_name": "Python 3",
   "language": "python",
   "name": "python3"
  },
  "language_info": {
   "codemirror_mode": {
    "name": "ipython",
    "version": 3
   },
   "file_extension": ".py",
   "mimetype": "text/x-python",
   "name": "python",
   "nbconvert_exporter": "python",
   "pygments_lexer": "ipython3",
   "version": "3.6.7"
  }
 },
 "nbformat": 4,
 "nbformat_minor": 2
}
