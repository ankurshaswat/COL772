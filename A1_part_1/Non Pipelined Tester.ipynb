{
 "cells": [
  {
   "cell_type": "code",
   "execution_count": 1,
   "metadata": {
    "ExecuteTime": {
     "end_time": "2019-02-15T08:06:56.300816Z",
     "start_time": "2019-02-15T08:06:56.296689Z"
    }
   },
   "outputs": [],
   "source": [
    "train_path = 'data/train.json'\n",
    "dev_path = 'data/dev.json'"
   ]
  },
  {
   "cell_type": "code",
   "execution_count": 45,
   "metadata": {
    "ExecuteTime": {
     "end_time": "2019-02-15T09:12:01.094450Z",
     "start_time": "2019-02-15T09:12:01.084947Z"
    }
   },
   "outputs": [],
   "source": [
    "import json\n",
    "\n",
    "def read_file(path):\n",
    "    data_X = []\n",
    "    data_Y = []\n",
    "    with open(path, 'r') as data_file:\n",
    "        line = data_file.readline()\n",
    "        while line:\n",
    "            data = json.loads(line)\n",
    "            data_X.append(data['review'])\n",
    "            data_Y.append(data['ratings'])\n",
    "            line = data_file.readline()\n",
    "    return data_X,data_Y"
   ]
  },
  {
   "cell_type": "code",
   "execution_count": 3,
   "metadata": {
    "ExecuteTime": {
     "end_time": "2019-02-15T08:07:07.448957Z",
     "start_time": "2019-02-15T08:06:57.759626Z"
    }
   },
   "outputs": [],
   "source": [
    "X_train,Y_train = read_file(train_path)\n",
    "X_dev,Y_dev = read_file(dev_path)"
   ]
  },
  {
   "cell_type": "code",
   "execution_count": 44,
   "metadata": {
    "ExecuteTime": {
     "end_time": "2019-02-15T09:11:27.978589Z",
     "start_time": "2019-02-15T09:11:27.968805Z"
    }
   },
   "outputs": [],
   "source": [
    "import matplotlib.pyplot as plt\n",
    "from sklearn.metrics import accuracy_score,f1_score,mean_squared_error,confusion_matrix\n",
    "\n",
    "def get_metrics_from_pred(y_pred,y_true):\n",
    "    mse = mean_squared_error(y_pred,y_true)\n",
    "    \n",
    "    try:\n",
    "        f1_scor = f1_score(y_true, y_pred, average='weighted')\n",
    "        acc = accuracy_score(y_true, y_pred)\n",
    "        conf_matrix = confusion_matrix(y_true,y_pred)\n",
    "      \n",
    "    except:\n",
    "        y_pred = np.round(y_pred)\n",
    "        \n",
    "        f1_scor = f1_score(y_true, y_pred, average='weighted')\n",
    "        acc = accuracy_score(y_true, y_pred)\n",
    "        conf_matrix = confusion_matrix(y_true,y_pred)\n",
    "        \n",
    "    print(\"MSE = \",mse,\" F1 = \",f1_scor,\" Accuracy = \",acc)\n",
    "    plt.matshow(conf_matrix)\n",
    "    plt.colorbar()\n",
    "    \n",
    "def get_metrics(model,X,y_true):\n",
    "    y_pred = model.predict(X)\n",
    "    get_metrics_from_pred(y_pred,y_true)\n",
    "    \n",
    "def get_metrics_using_probs(model,X,y_true):\n",
    "    y_pred = model.predict_proba(X)\n",
    "    y_pred = np.average(y_pred,axis=1, weights=[1,2,3,4,5])*15\n",
    "    get_metrics_from_pred(y_pred,y_true)"
   ]
  },
  {
   "cell_type": "code",
   "execution_count": 9,
   "metadata": {
    "ExecuteTime": {
     "end_time": "2019-02-15T08:07:38.072484Z",
     "start_time": "2019-02-15T08:07:38.060098Z"
    }
   },
   "outputs": [],
   "source": [
    "import string\n",
    "from nltk import wordpunct_tokenize\n",
    "from nltk.stem.snowball import SnowballStemmer\n",
    "import re\n",
    "from nltk.corpus import stopwords\n",
    "\n",
    "translator = str.maketrans(string.punctuation, ' '*len(string.punctuation)) #map punctuation to space\n",
    "\n",
    "def tokenize(sentence):\n",
    "    removed_puncts = sentence.translate(translator)\n",
    "    return wordpunct_tokenize(removed_puncts)\n",
    "\n",
    "# stemmer = SnowballStemmer(\"english\", ignore_stopwords=True)\n",
    "\n",
    "# def tokenize(sentence):\n",
    "#     lowercase = sentence.lower()\n",
    "#     removed_numbers = re.sub(r'\\d+', '', lowercase)\n",
    "#     removed_puncts = removed_numbers.translate(str.maketrans(\"\",\"\", string.punctuation))\n",
    "#     removed_whitespacess = removed_puncts.strip()\n",
    "#     tokens = wordpunct_tokenize(removed_puncts)\n",
    "#     for i in range(len(tokens)):\n",
    "#         tokens[i] = stemmer.stem(tokens[i])\n",
    "#     return tokens\n",
    "\n",
    "processed_stopwords = tokenize(' '.join(stopwords.words('english')))"
   ]
  },
  {
   "cell_type": "code",
   "execution_count": 11,
   "metadata": {
    "ExecuteTime": {
     "end_time": "2019-02-15T08:09:21.816641Z",
     "start_time": "2019-02-15T08:07:40.098349Z"
    }
   },
   "outputs": [],
   "source": [
    "from sklearn.feature_extraction.text import TfidfVectorizer\n",
    "\n",
    "vectorizer = TfidfVectorizer(strip_accents='ascii',\n",
    "                             lowercase=True,\n",
    "                             tokenizer=tokenize,\n",
    "                             stop_words=processed_stopwords,\n",
    "                             ngram_range=(1,1),\n",
    "                             binary=True,\n",
    "                             norm='l2',\n",
    "                             analyzer='word')\n",
    "\n",
    "X_train_counts = vectorizer.fit_transform(X_train)\n",
    "X_dev_counts = vectorizer.transform(X_dev)"
   ]
  },
  {
   "cell_type": "markdown",
   "metadata": {},
   "source": [
    "* Try Removeding whole numbers\n",
    "* Try seperating number and text\n",
    "* Try replacing 000ps by ooops\n",
    "* Try removing repeated characters like sssslllleeeepppp."
   ]
  },
  {
   "cell_type": "markdown",
   "metadata": {},
   "source": [
    "# Baseline"
   ]
  },
  {
   "cell_type": "code",
   "execution_count": 12,
   "metadata": {
    "ExecuteTime": {
     "end_time": "2019-02-15T08:09:35.889896Z",
     "start_time": "2019-02-15T08:09:34.803828Z"
    }
   },
   "outputs": [
    {
     "name": "stderr",
     "output_type": "stream",
     "text": [
      "/home/ankurshaswat/MyFiles/Repos/COL772/A1_part_1/env/lib/python3.6/site-packages/sklearn/metrics/classification.py:1143: UndefinedMetricWarning: F-score is ill-defined and being set to 0.0 in labels with no predicted samples.\n",
      "  'precision', 'predicted', average, warn_for)\n"
     ]
    },
    {
     "name": "stdout",
     "output_type": "stream",
     "text": [
      "MSE =  3.771725  F1 =  0.2686300573016148  Accuracy =  0.43975\n"
     ]
    },
    {
     "data": {
      "image/png": "[encoded data removed]",
      "text/plain": [
       "<Figure size 288x288 with 2 Axes>"
      ]
     },
     "metadata": {
      "needs_background": "light"
     },
     "output_type": "display_data"
    }
   ],
   "source": [
    "import numpy as np\n",
    "\n",
    "all_5 = list(5*np.ones([len(Y_dev),]))\n",
    "\n",
    "get_metrics_from_pred(all_5,Y_dev)"
   ]
  },
  {
   "cell_type": "markdown",
   "metadata": {},
   "source": [
    "# Trying Multinomial Naive Bayes"
   ]
  },
  {
   "cell_type": "code",
   "execution_count": 11,
   "metadata": {
    "ExecuteTime": {
     "end_time": "2019-02-13T13:12:38.350188Z",
     "start_time": "2019-02-13T13:12:37.588905Z"
    }
   },
   "outputs": [
    {
     "data": {
      "text/plain": [
       "MultinomialNB(alpha=1.0, class_prior=None, fit_prior=True)"
      ]
     },
     "execution_count": 11,
     "metadata": {},
     "output_type": "execute_result"
    }
   ],
   "source": [
    "# from sklearn.naive_bayes import MultinomialNB\n",
    "\n",
    "# model_MNNB = MultinomialNB()\n",
    "# model_MNNB.fit(X_train_counts,Y_train)"
   ]
  },
  {
   "cell_type": "code",
   "execution_count": 12,
   "metadata": {
    "ExecuteTime": {
     "end_time": "2019-02-13T13:12:38.955323Z",
     "start_time": "2019-02-13T13:12:38.351702Z"
    }
   },
   "outputs": [
    {
     "name": "stdout",
     "output_type": "stream",
     "text": [
      "MSE =  1.87538  F1 =  0.4630410368251793  Accuracy =  0.5572\n"
     ]
    },
    {
     "data": {
      "image/png": "[encoded data removed]",
      "text/plain": [
       "<Figure size 288x288 with 2 Axes>"
      ]
     },
     "metadata": {
      "needs_background": "light"
     },
     "output_type": "display_data"
    }
   ],
   "source": [
    "# get_metrics(model_MNNB,X_dev_counts,Y_dev)"
   ]
  },
  {
   "cell_type": "markdown",
   "metadata": {},
   "source": [
    "# Trying Logistic Regression"
   ]
  },
  {
   "cell_type": "code",
   "execution_count": 56,
   "metadata": {
    "ExecuteTime": {
     "end_time": "2019-02-15T10:17:23.173765Z",
     "start_time": "2019-02-15T10:15:06.217280Z"
    }
   },
   "outputs": [
    {
     "name": "stderr",
     "output_type": "stream",
     "text": [
      "/home/ankurshaswat/MyFiles/Repos/COL772/A1_part_1/env/lib/python3.6/site-packages/sklearn/linear_model/logistic.py:433: FutureWarning: Default solver will be changed to 'lbfgs' in 0.22. Specify a solver to silence this warning.\n",
      "  FutureWarning)\n",
      "/home/ankurshaswat/MyFiles/Repos/COL772/A1_part_1/env/lib/python3.6/site-packages/sklearn/linear_model/logistic.py:460: FutureWarning: Default multi_class will be changed to 'auto' in 0.22. Specify the multi_class option to silence this warning.\n",
      "  \"this warning.\", FutureWarning)\n",
      "/home/ankurshaswat/MyFiles/Repos/COL772/A1_part_1/env/lib/python3.6/site-packages/sklearn/linear_model/logistic.py:1300: UserWarning: 'n_jobs' > 1 does not have any effect when 'solver' is set to 'liblinear'. Got 'n_jobs' = 7.\n",
      "  \" = {}.\".format(effective_n_jobs(self.n_jobs)))\n"
     ]
    },
    {
     "name": "stdout",
     "output_type": "stream",
     "text": [
      "[LibLinear]"
     ]
    },
    {
     "data": {
      "text/plain": [
       "LogisticRegression(C=1.0, class_weight=None, dual=False, fit_intercept=True,\n",
       "          intercept_scaling=1, max_iter=100, multi_class='warn', n_jobs=7,\n",
       "          penalty='l2', random_state=None, solver='warn', tol=0.0001,\n",
       "          verbose=1, warm_start=False)"
      ]
     },
     "execution_count": 56,
     "metadata": {},
     "output_type": "execute_result"
    }
   ],
   "source": [
    "from sklearn.linear_model import LogisticRegression\n",
    "\n",
    "model = LogisticRegression(verbose=1,n_jobs=7)\n",
    "model.fit(X_train_counts,Y_train)"
   ]
  },
  {
   "cell_type": "code",
   "execution_count": 57,
   "metadata": {
    "ExecuteTime": {
     "end_time": "2019-02-15T10:17:24.505108Z",
     "start_time": "2019-02-15T10:17:23.175956Z"
    }
   },
   "outputs": [
    {
     "name": "stdout",
     "output_type": "stream",
     "text": [
      "MSE =  0.705515  F1 =  0.6547875955316029  Accuracy =  0.675845\n",
      "MSE =  0.4949026211930505  F1 =  0.6194519450893323  Accuracy =  0.60378\n"
     ]
    },
    {
     "data": {
      "image/png": "[encoded data removed]",
      "text/plain": [
       "<Figure size 288x288 with 2 Axes>"
      ]
     },
     "metadata": {
      "needs_background": "light"
     },
     "output_type": "display_data"
    },
    {
     "data": {
      "image/png": "[encoded data removed]",
      "text/plain": [
       "<Figure size 288x288 with 2 Axes>"
      ]
     },
     "metadata": {
      "needs_background": "light"
     },
     "output_type": "display_data"
    }
   ],
   "source": [
    "get_metrics(model,X_dev_counts,Y_dev)\n",
    "get_metrics_using_probs(model,X_dev_counts,Y_dev)"
   ]
  },
  {
   "cell_type": "markdown",
   "metadata": {},
   "source": [
    "# Logistic Detailed"
   ]
  },
  {
   "cell_type": "code",
   "execution_count": 40,
   "metadata": {
    "ExecuteTime": {
     "end_time": "2019-02-15T08:38:53.590611Z",
     "start_time": "2019-02-15T08:36:02.011887Z"
    }
   },
   "outputs": [
    {
     "name": "stderr",
     "output_type": "stream",
     "text": [
      "/home/ankurshaswat/MyFiles/Repos/COL772/A1_part_1/env/lib/python3.6/site-packages/sklearn/linear_model/logistic.py:1300: UserWarning: 'n_jobs' > 1 does not have any effect when 'solver' is set to 'liblinear'. Got 'n_jobs' = 7.\n",
      "  \" = {}.\".format(effective_n_jobs(self.n_jobs)))\n"
     ]
    },
    {
     "name": "stdout",
     "output_type": "stream",
     "text": [
      "[LibLinear]"
     ]
    },
    {
     "data": {
      "text/plain": [
       "LogisticRegression(C=1.0, class_weight='balanced', dual=False,\n",
       "          fit_intercept=True, intercept_scaling=1, max_iter=100,\n",
       "          multi_class='ovr', n_jobs=7, penalty='l2', random_state=None,\n",
       "          solver='liblinear', tol=0.0001, verbose=1, warm_start=False)"
      ]
     },
     "execution_count": 40,
     "metadata": {},
     "output_type": "execute_result"
    }
   ],
   "source": [
    "# from sklearn.linear_model import LogisticRegression\n",
    "\n",
    "# model = LogisticRegression(verbose=1,n_jobs=7,class_weight='balanced',multi_class='ovr',solver='liblinear')\n",
    "# model.fit(X_train_counts,Y_train)"
   ]
  },
  {
   "cell_type": "code",
   "execution_count": 47,
   "metadata": {
    "ExecuteTime": {
     "end_time": "2019-02-15T09:12:23.145220Z",
     "start_time": "2019-02-15T09:12:21.674996Z"
    }
   },
   "outputs": [
    {
     "name": "stdout",
     "output_type": "stream",
     "text": [
      "MSE =  0.663425  F1 =  0.6682855545291063  Accuracy =  0.67089\n",
      "MSE =  0.5470195674195963  F1 =  0.5743339042150869  Accuracy =  0.55102\n"
     ]
    },
    {
     "data": {
      "image/png": "[encoded data removed]",
      "text/plain": [
       "<Figure size 288x288 with 2 Axes>"
      ]
     },
     "metadata": {
      "needs_background": "light"
     },
     "output_type": "display_data"
    },
    {
     "data": {
      "image/png": "[encoded data removed]",
      "text/plain": [
       "<Figure size 288x288 with 2 Axes>"
      ]
     },
     "metadata": {
      "needs_background": "light"
     },
     "output_type": "display_data"
    }
   ],
   "source": [
    "# get_metrics(model,X_dev_counts,Y_dev)\n",
    "# get_metrics_using_probs(model,X_dev_counts,Y_dev)"
   ]
  },
  {
   "cell_type": "code",
   "execution_count": 52,
   "metadata": {
    "ExecuteTime": {
     "end_time": "2019-02-15T09:38:19.906954Z",
     "start_time": "2019-02-15T09:35:59.486101Z"
    }
   },
   "outputs": [
    {
     "name": "stderr",
     "output_type": "stream",
     "text": [
      "[Parallel(n_jobs=7)]: Using backend LokyBackend with 7 concurrent workers.\n",
      "[Parallel(n_jobs=7)]: Done   1 out of   1 | elapsed:  2.3min finished\n"
     ]
    },
    {
     "data": {
      "text/plain": [
       "LogisticRegression(C=1.0, class_weight='balanced', dual=False,\n",
       "          fit_intercept=True, intercept_scaling=1, max_iter=100,\n",
       "          multi_class='multinomial', n_jobs=7, penalty='l2',\n",
       "          random_state=None, solver='lbfgs', tol=0.0001, verbose=1,\n",
       "          warm_start=False)"
      ]
     },
     "execution_count": 52,
     "metadata": {},
     "output_type": "execute_result"
    }
   ],
   "source": [
    "# from sklearn.linear_model import LogisticRegression\n",
    "\n",
    "# model = LogisticRegression(verbose=1,n_jobs=7,class_weight='balanced',multi_class='multinomial',solver='lbfgs')\n",
    "# model.fit(X_train_counts,Y_train)"
   ]
  },
  {
   "cell_type": "code",
   "execution_count": 53,
   "metadata": {
    "ExecuteTime": {
     "end_time": "2019-02-15T09:38:49.507985Z",
     "start_time": "2019-02-15T09:38:48.110680Z"
    }
   },
   "outputs": [
    {
     "name": "stdout",
     "output_type": "stream",
     "text": [
      "MSE =  0.674505  F1 =  0.6606340320373303  Accuracy =  0.6507\n",
      "MSE =  0.5600854819812404  F1 =  0.5993693503803343  Accuracy =  0.575025\n"
     ]
    },
    {
     "data": {
      "image/png": "[encoded data removed]",
      "text/plain": [
       "<Figure size 288x288 with 2 Axes>"
      ]
     },
     "metadata": {
      "needs_background": "light"
     },
     "output_type": "display_data"
    },
    {
     "data": {
      "image/png": "[encoded data removed]",
      "text/plain": [
       "<Figure size 288x288 with 2 Axes>"
      ]
     },
     "metadata": {
      "needs_background": "light"
     },
     "output_type": "display_data"
    }
   ],
   "source": [
    "# get_metrics(model,X_dev_counts,Y_dev)\n",
    "# get_metrics_using_probs(model,X_dev_counts,Y_dev)"
   ]
  },
  {
   "cell_type": "code",
   "execution_count": 54,
   "metadata": {
    "ExecuteTime": {
     "end_time": "2019-02-15T09:45:58.369804Z",
     "start_time": "2019-02-15T09:40:13.353395Z"
    }
   },
   "outputs": [
    {
     "name": "stderr",
     "output_type": "stream",
     "text": [
      "/home/ankurshaswat/MyFiles/Repos/COL772/A1_part_1/env/lib/python3.6/site-packages/sklearn/linear_model/logistic.py:1300: UserWarning: 'n_jobs' > 1 does not have any effect when 'solver' is set to 'liblinear'. Got 'n_jobs' = 7.\n",
      "  \" = {}.\".format(effective_n_jobs(self.n_jobs)))\n"
     ]
    },
    {
     "name": "stdout",
     "output_type": "stream",
     "text": [
      "[LibLinear]"
     ]
    },
    {
     "data": {
      "text/plain": [
       "LogisticRegression(C=1.0, class_weight='balanced', dual=False,\n",
       "          fit_intercept=True, intercept_scaling=1, max_iter=100,\n",
       "          multi_class='ovr', n_jobs=7, penalty='l1', random_state=None,\n",
       "          solver='liblinear', tol=0.0001, verbose=1, warm_start=False)"
      ]
     },
     "execution_count": 54,
     "metadata": {},
     "output_type": "execute_result"
    }
   ],
   "source": [
    "from sklearn.linear_model import LogisticRegression\n",
    "\n",
    "model = LogisticRegression(verbose=1,n_jobs=7,class_weight='balanced',multi_class='ovr',solver='liblinear',penalty='l1')\n",
    "model.fit(X_train_counts,Y_train)"
   ]
  },
  {
   "cell_type": "code",
   "execution_count": 55,
   "metadata": {
    "ExecuteTime": {
     "end_time": "2019-02-15T10:13:45.448114Z",
     "start_time": "2019-02-15T10:13:44.059204Z"
    }
   },
   "outputs": [
    {
     "name": "stdout",
     "output_type": "stream",
     "text": [
      "MSE =  0.665345  F1 =  0.6684602753237181  Accuracy =  0.67084\n",
      "MSE =  0.545941237873659  F1 =  0.5787589033330414  Accuracy =  0.555205\n"
     ]
    },
    {
     "data": {
      "image/png": "[encoded data removed]",
      "text/plain": [
       "<Figure size 288x288 with 2 Axes>"
      ]
     },
     "metadata": {
      "needs_background": "light"
     },
     "output_type": "display_data"
    },
    {
     "data": {
      "image/png": "[encoded data removed]",
      "text/plain": [
       "<Figure size 288x288 with 2 Axes>"
      ]
     },
     "metadata": {
      "needs_background": "light"
     },
     "output_type": "display_data"
    }
   ],
   "source": [
    "get_metrics(model,X_dev_counts,Y_dev)\n",
    "get_metrics_using_probs(model,X_dev_counts,Y_dev)"
   ]
  },
  {
   "cell_type": "code",
   "execution_count": 62,
   "metadata": {
    "ExecuteTime": {
     "end_time": "2019-02-15T14:54:18.407699Z",
     "start_time": "2019-02-15T10:22:36.114612Z"
    }
   },
   "outputs": [
    {
     "name": "stderr",
     "output_type": "stream",
     "text": [
      "[Parallel(n_jobs=7)]: Using backend ThreadingBackend with 7 concurrent workers.\n"
     ]
    },
    {
     "name": "stdout",
     "output_type": "stream",
     "text": [
      "max_iter reached after 16301 seconds\n"
     ]
    },
    {
     "name": "stderr",
     "output_type": "stream",
     "text": [
      "/home/ankurshaswat/MyFiles/Repos/COL772/A1_part_1/env/lib/python3.6/site-packages/sklearn/linear_model/sag.py:334: ConvergenceWarning: The max_iter was reached which means the coef_ did not converge\n",
      "  \"the coef_ did not converge\", ConvergenceWarning)\n",
      "[Parallel(n_jobs=7)]: Done   1 out of   1 | elapsed: 271.7min finished\n"
     ]
    },
    {
     "data": {
      "text/plain": [
       "LogisticRegression(C=1.0, class_weight='balanced', dual=False,\n",
       "          fit_intercept=True, intercept_scaling=1, max_iter=100,\n",
       "          multi_class='multinomial', n_jobs=7, penalty='l1',\n",
       "          random_state=None, solver='saga', tol=0.0001, verbose=1,\n",
       "          warm_start=False)"
      ]
     },
     "execution_count": 62,
     "metadata": {},
     "output_type": "execute_result"
    }
   ],
   "source": [
    "from sklearn.linear_model import LogisticRegression\n",
    "\n",
    "model = LogisticRegression(verbose=1,n_jobs=7,class_weight='balanced',multi_class='multinomial',solver='saga',penalty='l1')\n",
    "model.fit(X_train_counts,Y_train)"
   ]
  },
  {
   "cell_type": "code",
   "execution_count": 63,
   "metadata": {
    "ExecuteTime": {
     "end_time": "2019-02-15T14:54:26.858097Z",
     "start_time": "2019-02-15T14:54:25.563729Z"
    }
   },
   "outputs": [
    {
     "name": "stdout",
     "output_type": "stream",
     "text": [
      "MSE =  0.6928  F1 =  0.6554059749480826  Accuracy =  0.646515\n",
      "MSE =  0.5424154743519443  F1 =  0.6142127594708119  Accuracy =  0.591525\n"
     ]
    },
    {
     "data": {
      "image/png": "[encoded data removed]",
      "text/plain": [
       "<Figure size 288x288 with 2 Axes>"
      ]
     },
     "metadata": {
      "needs_background": "light"
     },
     "output_type": "display_data"
    },
    {
     "data": {
      "image/png": "[encoded data removed]",
      "text/plain": [
       "<Figure size 288x288 with 2 Axes>"
      ]
     },
     "metadata": {
      "needs_background": "light"
     },
     "output_type": "display_data"
    }
   ],
   "source": [
    "get_metrics(model,X_dev_counts,Y_dev)\n",
    "get_metrics_using_probs(model,X_dev_counts,Y_dev)"
   ]
  },
  {
   "cell_type": "markdown",
   "metadata": {},
   "source": [
    "# Linear Regression"
   ]
  },
  {
   "cell_type": "code",
   "execution_count": 48,
   "metadata": {
    "ExecuteTime": {
     "end_time": "2019-02-15T09:27:54.872785Z",
     "start_time": "2019-02-15T09:14:46.629711Z"
    }
   },
   "outputs": [
    {
     "name": "stderr",
     "output_type": "stream",
     "text": [
      "ERROR:root:Internal Python error in the inspect module.\n",
      "Below is the traceback from this internal error.\n",
      "\n"
     ]
    },
    {
     "name": "stdout",
     "output_type": "stream",
     "text": [
      "Traceback (most recent call last):\n",
      "  File \"/home/ankurshaswat/MyFiles/Repos/COL772/A1_part_1/env/lib/python3.6/site-packages/IPython/core/interactiveshell.py\", line 3267, in run_code\n",
      "    exec(code_obj, self.user_global_ns, self.user_ns)\n",
      "  File \"<ipython-input-48-f58780eaed08>\", line 4, in <module>\n",
      "    model.fit(X_train_counts,Y_train)\n",
      "  File \"/home/ankurshaswat/MyFiles/Repos/COL772/A1_part_1/env/lib/python3.6/site-packages/sklearn/linear_model/base.py\", line 473, in fit\n",
      "    out = sparse_lsqr(X, y)\n",
      "  File \"/home/ankurshaswat/MyFiles/Repos/COL772/A1_part_1/env/lib/python3.6/site-packages/scipy/sparse/linalg/isolve/lsqr.py\", line 423, in lsqr\n",
      "    v = A.rmatvec(u) - beta * v\n",
      "  File \"/home/ankurshaswat/MyFiles/Repos/COL772/A1_part_1/env/lib/python3.6/site-packages/scipy/sparse/linalg/interface.py\", line 269, in rmatvec\n",
      "    y = self._rmatvec(x)\n",
      "  File \"/home/ankurshaswat/MyFiles/Repos/COL772/A1_part_1/env/lib/python3.6/site-packages/scipy/sparse/linalg/interface.py\", line 291, in _rmatvec\n",
      "    return self.H.matvec(x)\n",
      "  File \"/home/ankurshaswat/MyFiles/Repos/COL772/A1_part_1/env/lib/python3.6/site-packages/scipy/sparse/linalg/interface.py\", line 222, in matvec\n",
      "    y = self._matvec(x)\n",
      "  File \"/home/ankurshaswat/MyFiles/Repos/COL772/A1_part_1/env/lib/python3.6/site-packages/scipy/sparse/linalg/interface.py\", line 189, in _matvec\n",
      "    return self.matmat(x.reshape(-1, 1))\n",
      "  File \"/home/ankurshaswat/MyFiles/Repos/COL772/A1_part_1/env/lib/python3.6/site-packages/scipy/sparse/linalg/interface.py\", line 329, in matmat\n",
      "    Y = self._matmat(X)\n",
      "  File \"/home/ankurshaswat/MyFiles/Repos/COL772/A1_part_1/env/lib/python3.6/site-packages/scipy/sparse/linalg/interface.py\", line 613, in _matmat\n",
      "    return self.A.dot(X)\n",
      "  File \"/home/ankurshaswat/MyFiles/Repos/COL772/A1_part_1/env/lib/python3.6/site-packages/scipy/sparse/base.py\", line 364, in dot\n",
      "    return self * other\n",
      "  File \"/home/ankurshaswat/MyFiles/Repos/COL772/A1_part_1/env/lib/python3.6/site-packages/scipy/sparse/base.py\", line 471, in __mul__\n",
      "    return self._mul_vector(other.ravel()).reshape(M, 1)\n",
      "  File \"/home/ankurshaswat/MyFiles/Repos/COL772/A1_part_1/env/lib/python3.6/site-packages/scipy/sparse/compressed.py\", line 468, in _mul_vector\n",
      "    fn(M, N, self.indptr, self.indices, self.data, other, result)\n",
      "KeyboardInterrupt\n",
      "\n",
      "During handling of the above exception, another exception occurred:\n",
      "\n",
      "Traceback (most recent call last):\n",
      "  File \"/home/ankurshaswat/MyFiles/Repos/COL772/A1_part_1/env/lib/python3.6/site-packages/IPython/core/interactiveshell.py\", line 2018, in showtraceback\n",
      "    stb = value._render_traceback_()\n",
      "AttributeError: 'KeyboardInterrupt' object has no attribute '_render_traceback_'\n",
      "\n",
      "During handling of the above exception, another exception occurred:\n",
      "\n",
      "Traceback (most recent call last):\n",
      "  File \"/home/ankurshaswat/MyFiles/Repos/COL772/A1_part_1/env/lib/python3.6/site-packages/IPython/core/ultratb.py\", line 1095, in get_records\n",
      "    return _fixed_getinnerframes(etb, number_of_lines_of_context, tb_offset)\n",
      "  File \"/home/ankurshaswat/MyFiles/Repos/COL772/A1_part_1/env/lib/python3.6/site-packages/IPython/core/ultratb.py\", line 313, in wrapped\n",
      "    return f(*args, **kwargs)\n",
      "  File \"/home/ankurshaswat/MyFiles/Repos/COL772/A1_part_1/env/lib/python3.6/site-packages/IPython/core/ultratb.py\", line 347, in _fixed_getinnerframes\n",
      "    records = fix_frame_records_filenames(inspect.getinnerframes(etb, context))\n",
      "  File \"/usr/lib/python3.6/inspect.py\", line 1488, in getinnerframes\n",
      "    frameinfo = (tb.tb_frame,) + getframeinfo(tb, context)\n",
      "  File \"/usr/lib/python3.6/inspect.py\", line 1450, in getframeinfo\n",
      "    lines, lnum = findsource(frame)\n",
      "  File \"/home/ankurshaswat/MyFiles/Repos/COL772/A1_part_1/env/lib/python3.6/site-packages/IPython/core/ultratb.py\", line 179, in findsource\n",
      "    lines = linecache.getlines(file, globals_dict)\n",
      "  File \"/home/ankurshaswat/MyFiles/Repos/COL772/A1_part_1/env/lib/python3.6/linecache.py\", line 47, in getlines\n",
      "    return updatecache(filename, module_globals)\n",
      "  File \"/home/ankurshaswat/MyFiles/Repos/COL772/A1_part_1/env/lib/python3.6/linecache.py\", line 136, in updatecache\n",
      "    with tokenize.open(fullname) as fp:\n",
      "  File \"/home/ankurshaswat/MyFiles/Repos/COL772/A1_part_1/env/lib/python3.6/tokenize.py\", line 454, in open\n",
      "    encoding, lines = detect_encoding(buffer.readline)\n",
      "  File \"/home/ankurshaswat/MyFiles/Repos/COL772/A1_part_1/env/lib/python3.6/tokenize.py\", line 423, in detect_encoding\n",
      "    first = read_or_stop()\n",
      "  File \"/home/ankurshaswat/MyFiles/Repos/COL772/A1_part_1/env/lib/python3.6/tokenize.py\", line 381, in read_or_stop\n",
      "    return readline()\n",
      "KeyboardInterrupt\n"
     ]
    },
    {
     "ename": "KeyboardInterrupt",
     "evalue": "",
     "output_type": "error",
     "traceback": [
      "\u001b[0;31m---------------------------------------------------------------------------\u001b[0m"
     ]
    }
   ],
   "source": [
    "# from sklearn.linear_model import LinearRegression\n",
    "\n",
    "# model = LinearRegression(n_jobs=7)\n",
    "# model.fit(X_train_counts,Y_train)"
   ]
  },
  {
   "cell_type": "code",
   "execution_count": null,
   "metadata": {},
   "outputs": [],
   "source": [
    "# get_metrics(model,X_dev_counts,Y_dev)"
   ]
  },
  {
   "cell_type": "markdown",
   "metadata": {},
   "source": [
    "# SGD Classifier"
   ]
  },
  {
   "cell_type": "code",
   "execution_count": 15,
   "metadata": {
    "ExecuteTime": {
     "end_time": "2019-02-13T13:15:24.664525Z",
     "start_time": "2019-02-13T13:15:20.457810Z"
    }
   },
   "outputs": [
    {
     "name": "stderr",
     "output_type": "stream",
     "text": [
      "/home/ankurshaswat/MyFiles/Repos/COL772/A1_part_1/env/lib/python3.6/site-packages/sklearn/linear_model/stochastic_gradient.py:166: FutureWarning: max_iter and tol parameters have been added in SGDClassifier in 0.19. If both are left unset, they default to max_iter=5 and tol=None. If tol is not None, max_iter defaults to max_iter=1000. From 0.21, default max_iter will be 1000, and default tol will be 1e-3.\n",
      "  FutureWarning)\n",
      "[Parallel(n_jobs=7)]: Using backend ThreadingBackend with 7 concurrent workers.\n"
     ]
    },
    {
     "name": "stdout",
     "output_type": "stream",
     "text": [
      "-- Epoch 1\n",
      "-- Epoch 1-- Epoch 1\n",
      "-- Epoch 1\n",
      "\n",
      "-- Epoch 1\n",
      "Norm: 1.58, NNZs: 120069, Bias: -1.012438, T: 1000000, Avg. loss: 0.165990\n",
      "Total training time: 0.67 seconds.\n",
      "-- Epoch 2\n",
      "Norm: 23.53, NNZs: 167109, Bias: -0.841688, T: 1000000, Avg. loss: 0.183549\n",
      "Total training time: 0.73 seconds.\n",
      "-- Epoch 2\n",
      "Norm: 2.28, NNZs: 149980, Bias: -1.010804, T: 1000000, Avg. loss: 0.225623\n",
      "Total training time: 0.79 seconds.\n",
      "-- Epoch 2\n",
      "Norm: 3.16, NNZs: 230699, Bias: -1.014423, T: 1000000, Avg. loss: 0.447601\n",
      "Total training time: 0.76 seconds.\n",
      "-- Epoch 2\n",
      "Norm: 30.41, NNZs: 275961, Bias: -0.283493, T: 1000000, Avg. loss: 0.437694\n",
      "Total training time: 0.76 seconds.\n",
      "-- Epoch 2\n",
      "Norm: 1.22, NNZs: 142643, Bias: -1.005372, T: 2000000, Avg. loss: 0.162985\n",
      "Total training time: 1.39 seconds.\n",
      "-- Epoch 3\n",
      "Norm: 23.46, NNZs: 171884, Bias: -0.841919, T: 2000000, Avg. loss: 0.181608\n",
      "Total training time: 1.47 seconds.\n",
      "-- Epoch 3\n",
      "Norm: 1.96, NNZs: 176061, Bias: -1.005114, T: 2000000, Avg. loss: 0.221582\n",
      "Total training time: 1.53 seconds.\n",
      "-- Epoch 3\n",
      "Norm: 2.47, NNZs: 254627, Bias: -1.006327, T: 2000000, Avg. loss: 0.440275\n",
      "Total training time: 1.51 seconds.\n",
      "-- Epoch 3\n",
      "Norm: 30.28, NNZs: 281713, Bias: -0.283443, T: 2000000, Avg. loss: 0.432593\n",
      "Total training time: 1.51 seconds.\n",
      "-- Epoch 3\n",
      "Norm: 1.09, NNZs: 157409, Bias: -1.004286, T: 3000000, Avg. loss: 0.162776\n",
      "Total training time: 2.12 seconds.\n",
      "-- Epoch 4\n",
      "Norm: 23.43, NNZs: 172639, Bias: -0.833821, T: 3000000, Avg. loss: 0.181408\n",
      "Total training time: 2.19 seconds.\n",
      "-- Epoch 4\n",
      "Norm: 1.85, NNZs: 191795, Bias: -1.003876, T: 3000000, Avg. loss: 0.221303\n",
      "Total training time: 2.26 seconds.\n",
      "-- Epoch 4\n",
      "Norm: 2.22, NNZs: 265184, Bias: -1.005731, T: 3000000, Avg. loss: 0.439741\n",
      "Norm: 30.27, NNZs: 282626, Bias: -0.282437, T: 3000000, Avg. loss: 0.432113Total training time: 2.27 seconds.\n",
      "\n",
      "Total training time: 2.26 seconds.\n",
      "-- Epoch 4\n",
      "-- Epoch 4\n",
      "Norm: 1.01, NNZs: 168154, Bias: -1.002972, T: 4000000, Avg. loss: 0.162692\n",
      "Total training time: 2.84 seconds.\n",
      "-- Epoch 5\n",
      "Norm: 23.43, NNZs: 173002, Bias: -0.836872, T: 4000000, Avg. loss: 0.181300\n",
      "Total training time: 2.92 seconds.\n",
      "-- Epoch 5\n",
      "Norm: 1.79, NNZs: 203143, Bias: -1.002431, T: 4000000, Avg. loss: 0.221186\n",
      "Total training time: 2.99 seconds.\n",
      "-- Epoch 5\n",
      "Norm: 30.26, NNZs: 282987, Bias: -0.280645, T: 4000000, Avg. loss: 0.431911\n",
      "Total training time: 3.02 seconds.\n",
      "-- Epoch 5\n",
      "Norm: 2.09, NNZs: 271831, Bias: -1.003250, T: 4000000, Avg. loss: 0.439525\n",
      "Total training time: 3.03 seconds.\n",
      "-- Epoch 5\n",
      "Norm: 0.97, NNZs: 176294, Bias: -1.003116, T: 5000000, Avg. loss: 0.162645\n",
      "Total training time: 3.57 seconds.\n",
      "Norm: 23.43, NNZs: 173112, Bias: -0.833510, T: 5000000, Avg. loss: 0.181228\n",
      "Total training time: 3.63 seconds.\n",
      "Norm: 1.75, NNZs: 211482, Bias: -1.002453, T: 5000000, Avg. loss: 0.221125\n",
      "Total training time: 3.69 seconds.\n",
      "Norm: 30.26, NNZs: 283162, Bias: -0.283081, T: 5000000, Avg. loss: 0.431736\n",
      "Total training time: 3.70 seconds.\n",
      "Norm: 2.00, NNZs: 276297, Bias: -1.002418, T: 5000000, Avg. loss: 0.439407\n",
      "Total training time: 3.70 seconds.\n"
     ]
    },
    {
     "name": "stderr",
     "output_type": "stream",
     "text": [
      "[Parallel(n_jobs=7)]: Done   5 out of   5 | elapsed:    3.8s finished\n"
     ]
    },
    {
     "data": {
      "text/plain": [
       "SGDClassifier(alpha=0.0001, average=False, class_weight=None,\n",
       "       early_stopping=False, epsilon=0.1, eta0=0.0, fit_intercept=True,\n",
       "       l1_ratio=0.15, learning_rate='optimal', loss='hinge', max_iter=None,\n",
       "       n_iter=None, n_iter_no_change=5, n_jobs=7, penalty='l2',\n",
       "       power_t=0.5, random_state=None, shuffle=True, tol=None,\n",
       "       validation_fraction=0.1, verbose=True, warm_start=False)"
      ]
     },
     "execution_count": 15,
     "metadata": {},
     "output_type": "execute_result"
    }
   ],
   "source": [
    "# from sklearn.linear_model import SGDClassifier\n",
    "\n",
    "# model_SGD = SGDClassifier(n_jobs=7,verbose=True)\n",
    "# model_SGD.fit(X_train_counts,Y_train)"
   ]
  },
  {
   "cell_type": "code",
   "execution_count": 16,
   "metadata": {
    "ExecuteTime": {
     "end_time": "2019-02-13T13:15:25.287292Z",
     "start_time": "2019-02-13T13:15:24.666036Z"
    }
   },
   "outputs": [
    {
     "name": "stdout",
     "output_type": "stream",
     "text": [
      "MSE =  1.029835  F1 =  0.5517534759106447  Accuracy =  0.62264\n"
     ]
    },
    {
     "data": {
      "image/png": "[encoded data removed]",
      "text/plain": [
       "<Figure size 288x288 with 2 Axes>"
      ]
     },
     "metadata": {
      "needs_background": "light"
     },
     "output_type": "display_data"
    }
   ],
   "source": [
    "# get_metrics(model_SGD,X_dev_counts,Y_dev)"
   ]
  },
  {
   "cell_type": "markdown",
   "metadata": {},
   "source": [
    "# ElasticNet"
   ]
  },
  {
   "cell_type": "code",
   "execution_count": 49,
   "metadata": {
    "ExecuteTime": {
     "end_time": "2019-02-15T09:35:11.928194Z",
     "start_time": "2019-02-15T09:28:26.801216Z"
    }
   },
   "outputs": [
    {
     "ename": "KeyboardInterrupt",
     "evalue": "",
     "output_type": "error",
     "traceback": [
      "\u001b[0;31m---------------------------------------------------------------------------\u001b[0m",
      "\u001b[0;31mKeyboardInterrupt\u001b[0m                         Traceback (most recent call last)",
      "\u001b[0;32m<ipython-input-49-806d6b4b966e>\u001b[0m in \u001b[0;36m<module>\u001b[0;34m\u001b[0m\n\u001b[1;32m      2\u001b[0m \u001b[0;34m\u001b[0m\u001b[0m\n\u001b[1;32m      3\u001b[0m \u001b[0mmodel\u001b[0m \u001b[0;34m=\u001b[0m \u001b[0mElasticNet\u001b[0m\u001b[0;34m(\u001b[0m\u001b[0;34m)\u001b[0m\u001b[0;34m\u001b[0m\u001b[0;34m\u001b[0m\u001b[0m\n\u001b[0;32m----> 4\u001b[0;31m \u001b[0mmodel\u001b[0m\u001b[0;34m.\u001b[0m\u001b[0mfit\u001b[0m\u001b[0;34m(\u001b[0m\u001b[0mX_train_counts\u001b[0m\u001b[0;34m,\u001b[0m\u001b[0mY_train\u001b[0m\u001b[0;34m)\u001b[0m\u001b[0;34m\u001b[0m\u001b[0;34m\u001b[0m\u001b[0m\n\u001b[0m",
      "\u001b[0;32m~/MyFiles/Repos/COL772/A1_part_1/env/lib/python3.6/site-packages/sklearn/linear_model/coordinate_descent.py\u001b[0m in \u001b[0;36mfit\u001b[0;34m(self, X, y, check_input)\u001b[0m\n\u001b[1;32m    760\u001b[0m                           \u001b[0mrandom_state\u001b[0m\u001b[0;34m=\u001b[0m\u001b[0mself\u001b[0m\u001b[0;34m.\u001b[0m\u001b[0mrandom_state\u001b[0m\u001b[0;34m,\u001b[0m\u001b[0;34m\u001b[0m\u001b[0;34m\u001b[0m\u001b[0m\n\u001b[1;32m    761\u001b[0m                           \u001b[0mselection\u001b[0m\u001b[0;34m=\u001b[0m\u001b[0mself\u001b[0m\u001b[0;34m.\u001b[0m\u001b[0mselection\u001b[0m\u001b[0;34m,\u001b[0m\u001b[0;34m\u001b[0m\u001b[0;34m\u001b[0m\u001b[0m\n\u001b[0;32m--> 762\u001b[0;31m                           check_input=False)\n\u001b[0m\u001b[1;32m    763\u001b[0m             \u001b[0mcoef_\u001b[0m\u001b[0;34m[\u001b[0m\u001b[0mk\u001b[0m\u001b[0;34m]\u001b[0m \u001b[0;34m=\u001b[0m \u001b[0mthis_coef\u001b[0m\u001b[0;34m[\u001b[0m\u001b[0;34m:\u001b[0m\u001b[0;34m,\u001b[0m \u001b[0;36m0\u001b[0m\u001b[0;34m]\u001b[0m\u001b[0;34m\u001b[0m\u001b[0;34m\u001b[0m\u001b[0m\n\u001b[1;32m    764\u001b[0m             \u001b[0mdual_gaps_\u001b[0m\u001b[0;34m[\u001b[0m\u001b[0mk\u001b[0m\u001b[0;34m]\u001b[0m \u001b[0;34m=\u001b[0m \u001b[0mthis_dual_gap\u001b[0m\u001b[0;34m[\u001b[0m\u001b[0;36m0\u001b[0m\u001b[0;34m]\u001b[0m\u001b[0;34m\u001b[0m\u001b[0;34m\u001b[0m\u001b[0m\n",
      "\u001b[0;32m~/MyFiles/Repos/COL772/A1_part_1/env/lib/python3.6/site-packages/sklearn/linear_model/coordinate_descent.py\u001b[0m in \u001b[0;36menet_path\u001b[0;34m(X, y, l1_ratio, eps, n_alphas, alphas, precompute, Xy, copy_X, coef_init, verbose, return_n_iter, positive, check_input, **params)\u001b[0m\n\u001b[1;32m    460\u001b[0m                 \u001b[0mcoef_\u001b[0m\u001b[0;34m,\u001b[0m \u001b[0ml1_reg\u001b[0m\u001b[0;34m,\u001b[0m \u001b[0ml2_reg\u001b[0m\u001b[0;34m,\u001b[0m \u001b[0mX\u001b[0m\u001b[0;34m.\u001b[0m\u001b[0mdata\u001b[0m\u001b[0;34m,\u001b[0m \u001b[0mX\u001b[0m\u001b[0;34m.\u001b[0m\u001b[0mindices\u001b[0m\u001b[0;34m,\u001b[0m\u001b[0;34m\u001b[0m\u001b[0;34m\u001b[0m\u001b[0m\n\u001b[1;32m    461\u001b[0m                 \u001b[0mX\u001b[0m\u001b[0;34m.\u001b[0m\u001b[0mindptr\u001b[0m\u001b[0;34m,\u001b[0m \u001b[0my\u001b[0m\u001b[0;34m,\u001b[0m \u001b[0mX_sparse_scaling\u001b[0m\u001b[0;34m,\u001b[0m\u001b[0;34m\u001b[0m\u001b[0;34m\u001b[0m\u001b[0m\n\u001b[0;32m--> 462\u001b[0;31m                 max_iter, tol, rng, random, positive)\n\u001b[0m\u001b[1;32m    463\u001b[0m         \u001b[0;32melif\u001b[0m \u001b[0mmulti_output\u001b[0m\u001b[0;34m:\u001b[0m\u001b[0;34m\u001b[0m\u001b[0;34m\u001b[0m\u001b[0m\n\u001b[1;32m    464\u001b[0m             model = cd_fast.enet_coordinate_descent_multi_task(\n",
      "\u001b[0;31mKeyboardInterrupt\u001b[0m: "
     ]
    }
   ],
   "source": [
    "from sklearn.linear_model import ElasticNet\n",
    "\n",
    "model = ElasticNet()\n",
    "model.fit(X_train_counts,Y_train)"
   ]
  },
  {
   "cell_type": "code",
   "execution_count": null,
   "metadata": {
    "ExecuteTime": {
     "end_time": "2019-02-15T09:35:11.930112Z",
     "start_time": "2019-02-15T09:28:27.504Z"
    }
   },
   "outputs": [],
   "source": [
    "get_metrics(model,X_dev_counts,Y_dev)"
   ]
  },
  {
   "cell_type": "markdown",
   "metadata": {},
   "source": [
    "# GradientBoostingClassifier"
   ]
  },
  {
   "cell_type": "code",
   "execution_count": null,
   "metadata": {
    "ExecuteTime": {
     "start_time": "2019-02-13T11:51:24.142Z"
    }
   },
   "outputs": [
    {
     "name": "stdout",
     "output_type": "stream",
     "text": [
      "      Iter       Train Loss   Remaining Time \n",
      "         1     1485803.5110          238.55m\n",
      "         2     1446325.6075          232.57m\n",
      "         3     1414118.7574          229.73m\n",
      "         4     1387474.9866          229.58m\n",
      "         5     1364682.5540          232.52m\n",
      "         6     1344253.4853          230.56m\n",
      "         7     1326927.1060          229.86m\n",
      "         8     1311504.7733          228.17m\n"
     ]
    }
   ],
   "source": [
    "# from sklearn.ensemble import GradientBoostingClassifier\n",
    "\n",
    "# model = GradientBoostingClassifier(verbose=True)\n",
    "# model.fit(X_train_counts,Y_train)"
   ]
  },
  {
   "cell_type": "code",
   "execution_count": null,
   "metadata": {},
   "outputs": [],
   "source": [
    "# get_metrics(model,X_dev_counts,Y_dev)"
   ]
  }
 ],
 "metadata": {
  "kernelspec": {
   "display_name": "Python 3",
   "language": "python",
   "name": "python3"
  },
  "language_info": {
   "codemirror_mode": {
    "name": "ipython",
    "version": 3
   },
   "file_extension": ".py",
   "mimetype": "text/x-python",
   "name": "python",
   "nbconvert_exporter": "python",
   "pygments_lexer": "ipython3",
   "version": "3.6.7"
  }
 },
 "nbformat": 4,
 "nbformat_minor": 2
}
