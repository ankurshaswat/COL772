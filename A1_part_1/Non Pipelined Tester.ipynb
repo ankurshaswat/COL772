{
 "cells": [
  {
   "cell_type": "markdown",
   "metadata": {},
   "source": [
    "# Imports"
   ]
  },
  {
   "cell_type": "code",
   "execution_count": 19,
   "metadata": {
    "ExecuteTime": {
     "end_time": "2019-02-19T07:58:26.294250Z",
     "start_time": "2019-02-19T07:58:26.288573Z"
    }
   },
   "outputs": [],
   "source": [
    "import json\n",
    "import re\n",
    "import string\n",
    "import scipy\n",
    "\n",
    "import matplotlib.pyplot as plt\n",
    "import numpy as np\n",
    "\n",
    "from tqdm import tqdm_notebook as tqdm\n",
    "from nltk.sentiment.util import mark_negation\n",
    "from nltk import wordpunct_tokenize\n",
    "from nltk.tokenize import word_tokenize\n",
    "from nltk.corpus import stopwords\n",
    "from nltk.stem.snowball import SnowballStemmer\n",
    "\n",
    "from sklearn.linear_model import LinearRegression,SGDClassifier,ElasticNet,LogisticRegression\n",
    "from sklearn.ensemble import GradientBoostingClassifier,VotingClassifier\n",
    "from sklearn.naive_bayes import MultinomialNB\n",
    "from sklearn.metrics import accuracy_score,f1_score,mean_squared_error,confusion_matrix\n",
    "from sklearn.feature_extraction.text import TfidfVectorizer,CountVectorizer"
   ]
  },
  {
   "cell_type": "markdown",
   "metadata": {},
   "source": [
    "# Constants"
   ]
  },
  {
   "cell_type": "code",
   "execution_count": 21,
   "metadata": {
    "ExecuteTime": {
     "end_time": "2019-02-19T07:58:38.295320Z",
     "start_time": "2019-02-19T07:58:38.292576Z"
    }
   },
   "outputs": [],
   "source": [
    "train_path = 'data/train.json'\n",
    "dev_path = 'data/dev.json'\n",
    "\n",
    "translator = str.maketrans(\"\",\"\", string.punctuation)\n",
    "# stemmer = SnowballStemmer(\"english\", ignore_stopwords=True)"
   ]
  },
  {
   "cell_type": "markdown",
   "metadata": {},
   "source": [
    "# Function Defs"
   ]
  },
  {
   "cell_type": "code",
   "execution_count": 22,
   "metadata": {
    "ExecuteTime": {
     "end_time": "2019-02-19T07:58:40.485218Z",
     "start_time": "2019-02-19T07:58:40.470403Z"
    }
   },
   "outputs": [],
   "source": [
    "def read_file(path):\n",
    "    data_X = []\n",
    "    data_Y = []\n",
    "    with open(path, 'r') as data_file:\n",
    "        line = data_file.readline()\n",
    "        while line:\n",
    "            data = json.loads(line)\n",
    "            data_X.append(data['review'])\n",
    "            data_Y.append(data['ratings'])\n",
    "            line = data_file.readline()\n",
    "    return data_X,data_Y\n",
    "\n",
    "def get_metrics_from_pred(y_pred,y_true):\n",
    "    mse = mean_squared_error(y_pred,y_true)\n",
    "    \n",
    "    try:\n",
    "        f1_scor = f1_score(y_true, y_pred, average='weighted')\n",
    "        acc = accuracy_score(y_true, y_pred)\n",
    "        conf_matrix = confusion_matrix(y_true,y_pred)\n",
    "      \n",
    "    except:\n",
    "        y_pred = np.round(y_pred)\n",
    "        \n",
    "        f1_scor = f1_score(y_true, y_pred, average='weighted')\n",
    "        acc = accuracy_score(y_true, y_pred)\n",
    "        conf_matrix = confusion_matrix(y_true,y_pred)\n",
    "        \n",
    "    print(\"MSE = \",mse,\" F1 = \",f1_scor,\" Accuracy = \",acc)\n",
    "    plt.matshow(conf_matrix)\n",
    "    plt.colorbar()\n",
    "    \n",
    "def get_metrics(model,X,y_true):\n",
    "    y_pred = model.predict(X)\n",
    "    get_metrics_from_pred(y_pred,y_true)\n",
    "    \n",
    "def get_metrics_using_probs(model,X,y_true):\n",
    "    y_pred = model.predict_proba(X)\n",
    "    y_pred = np.average(y_pred,axis=1, weights=[1,2,3,4,5])*15\n",
    "    get_metrics_from_pred(y_pred,y_true)\n",
    "    \n",
    "def remove_repeats(sentence):\n",
    "    pattern = re.compile(r\"(.)\\1{2,}\")\n",
    "    return pattern.sub(r\"\\1\\1\", sentence)\n",
    "\n",
    "def tokenizer1(sentence):\n",
    "    sentence = sentence.translate(translator)      # Remove punctuations\n",
    "    sentence = sentence.lower()                    # Convert to lowercase\n",
    "    sentence = re.sub(r'\\d+', '', sentence)        # Remove Numbers\n",
    "    sentence = remove_repeats(sentence)            # Remove repeated characters\n",
    "#     sentence = sentence.strip()                    # Remove Whitespaces\n",
    "    tokens = wordpunct_tokenize(sentence)          # Tokenize\n",
    "#     tokens = word_tokenize(sentence)          # Tokenize\n",
    "    \n",
    "#     for i in range(len(tokens)):                    # Stem word\n",
    "#         tokens[i] = stemmer.stem(tokens[i])\n",
    "    return tokens"
   ]
  },
  {
   "cell_type": "code",
   "execution_count": null,
   "metadata": {
    "ExecuteTime": {
     "end_time": "2019-02-17T12:26:32.644308Z",
     "start_time": "2019-02-17T12:26:32.634645Z"
    }
   },
   "outputs": [],
   "source": []
  },
  {
   "cell_type": "code",
   "execution_count": 23,
   "metadata": {
    "ExecuteTime": {
     "end_time": "2019-02-19T07:58:41.647440Z",
     "start_time": "2019-02-19T07:58:41.642452Z"
    }
   },
   "outputs": [],
   "source": [
    "# emoticon_string = r\"\"\"\n",
    "#     (?:\n",
    "#       [<>]?\n",
    "#       [:;=8]                     # eyes\n",
    "#       [\\-o\\*\\']?                 # optional nose\n",
    "#       [\\)\\]\\(\\[dDpP/\\:\\}\\{@\\|\\\\] # mouth      \n",
    "#       |\n",
    "#       [\\)\\]\\(\\[dDpP/\\:\\}\\{@\\|\\\\] # mouth\n",
    "#       [\\-o\\*\\']?                 # optional nose\n",
    "#       [:;=8]                     # eyes\n",
    "#       [<>]?\n",
    "#     )\"\"\"\n",
    "\n",
    "# # The components of the tokenizer:\n",
    "# regex_strings = (\n",
    "#     # Phone numbers:\n",
    "#     r\"\"\"\n",
    "#     (?:\n",
    "#       (?:            # (international)\n",
    "#         \\+?[01]\n",
    "#         [\\-\\s.]*\n",
    "#       )?            \n",
    "#       (?:            # (area code)\n",
    "#         [\\(]?\n",
    "#         \\d{3}\n",
    "#         [\\-\\s.\\)]*\n",
    "#       )?    \n",
    "#       \\d{3}          # exchange\n",
    "#       [\\-\\s.]*   \n",
    "#       \\d{4}          # base\n",
    "#     )\"\"\"\n",
    "#     ,\n",
    "#     # Emoticons:\n",
    "#     emoticon_string\n",
    "#     ,    \n",
    "#     # HTML tags:\n",
    "#      r\"\"\"<[^>]+>\"\"\"\n",
    "#     ,\n",
    "#     # Twitter username:\n",
    "#     r\"\"\"(?:@[\\w_]+)\"\"\"\n",
    "#     ,\n",
    "#     # Twitter hashtags:\n",
    "#     r\"\"\"(?:\\#+[\\w_]+[\\w\\'_\\-]*[\\w_]+)\"\"\"\n",
    "#     ,\n",
    "#     # Remaining word types:\n",
    "#     r\"\"\"\n",
    "#     (?:[a-z][a-z'\\-_]+[a-z])       # Words with apostrophes or dashes.\n",
    "#     |\n",
    "#     (?:[+\\-]?\\d+[,/.:-]\\d+[+\\-]?)  # Numbers, including fractions, decimals.\n",
    "#     |\n",
    "#     (?:[\\w_]+)                     # Words without apostrophes or dashes.\n",
    "#     |\n",
    "#     (?:\\.(?:\\s*\\.){1,})            # Ellipsis dots. \n",
    "#     |\n",
    "#     (?:\\S)                         # Everything else that isn't whitespace.\n",
    "#     \"\"\"\n",
    "#     )\n",
    "\n",
    "# ######################################################################\n",
    "# # This is the core tokenizing regex:\n",
    "    \n",
    "# word_re = re.compile(r\"\"\"(%s)\"\"\" % \"|\".join(regex_strings), re.VERBOSE | re.I | re.UNICODE)\n",
    "\n",
    "# # The emoticon string gets its own regex so that we can preserve case for them as needed:\n",
    "# emoticon_re = re.compile(regex_strings[1], re.VERBOSE | re.I | re.UNICODE)\n",
    "\n",
    "# # These are for regularizing HTML entities to Unicode:\n",
    "# html_entity_digit_re = re.compile(r\"&#\\d+;\")\n",
    "# html_entity_alpha_re = re.compile(r\"&\\w+;\")\n",
    "# amp = \"&amp;\"\n",
    "\n",
    "# negation_re =  re.compile(r\"\"\"\n",
    "#                 never|no|nothing|nowhere|noone|none|not|\n",
    "#                 havent|hasnt|hadnt|cant|couldnt|shouldnt|\n",
    "#                 wont|wouldnt|dont|doesnt|didnt|isnt|arent|aint|\n",
    "#                 n't|\n",
    "#                 haven't|hasn't|hadn't|can't|couldn't|shouldn't|\n",
    "#                 won't|wouldn't|don't|doesn't|didn't|isn't|aren't|ain't\n",
    "#                 \"\"\",re.VERBOSE )\n",
    "\n",
    "# clause_level_re = re.compile(r\"\"\"^[.:;!?]$\"\"\",re.VERBOSE )\n",
    "# ######################################################################\n",
    "\n",
    "# class Tokenizer:\n",
    "#     def __init__(self, preserve_case=False):\n",
    "#         self.preserve_case = preserve_case\n",
    "\n",
    "#     def tokenize(self, s):\n",
    "#         \"\"\"\n",
    "#         Argument: s -- any string or unicode object\n",
    "#         Value: a tokenize list of strings; conatenating this list returns the original string if preserve_case=False\n",
    "#         \"\"\"        \n",
    "#         # Try to ensure unicode:\n",
    "# #         try:\n",
    "# #             s = unicode(s)\n",
    "# #         except UnicodeDecodeError:\n",
    "# #             s = str(s).encode('string_escape')\n",
    "# #             s = unicode(s)\n",
    "#         # Fix HTML character entitites:\n",
    "#         # Tokenize:\n",
    "#         words = word_re.findall(s)\n",
    "\n",
    "#         # Possible alter the case, but avoid changing emoticons like :D into :d:\n",
    "#         if not self.preserve_case:            \n",
    "#             words = list(map((lambda x : x if emoticon_re.search(x) else x.lower()), words))\n",
    "# #         negator = False\n",
    "        \n",
    "# #         for i in range(len(words)):\n",
    "# #             word = words[i]\n",
    "# #             if(negation_re.match(word)):\n",
    "# #                 negator = !negator\n",
    "# #             elif(clause_level_re.match(word)):\n",
    "# #                 negator = False\n",
    "# #             elif(negator):\n",
    "# #                 words[i] = word+\"_NEG\"\n",
    "#         return words\n",
    "    \n",
    "    \n",
    "# tok = Tokenizer().tokenize"
   ]
  },
  {
   "cell_type": "code",
   "execution_count": 24,
   "metadata": {
    "ExecuteTime": {
     "end_time": "2019-02-19T07:58:43.087389Z",
     "start_time": "2019-02-19T07:58:42.330500Z"
    }
   },
   "outputs": [],
   "source": [
    "tokenize = tokenizer1\n",
    "# tokenize = tok"
   ]
  },
  {
   "cell_type": "code",
   "execution_count": 25,
   "metadata": {
    "ExecuteTime": {
     "end_time": "2019-02-19T07:58:43.773112Z",
     "start_time": "2019-02-19T07:58:43.770979Z"
    }
   },
   "outputs": [],
   "source": [
    "# for i in tqdm(range(len(X_train))):\n",
    "#     tokenize(X_train[i])\n",
    "\n",
    "# for i in range(200,600):\n",
    "#     print(tokenize(X_train[i]))"
   ]
  },
  {
   "cell_type": "code",
   "execution_count": 26,
   "metadata": {
    "ExecuteTime": {
     "end_time": "2019-02-19T07:58:50.760361Z",
     "start_time": "2019-02-19T07:58:44.470596Z"
    }
   },
   "outputs": [],
   "source": [
    "X_train,Y_train = read_file(train_path)\n",
    "X_dev,Y_dev = read_file(dev_path)"
   ]
  },
  {
   "cell_type": "code",
   "execution_count": 27,
   "metadata": {
    "ExecuteTime": {
     "end_time": "2019-02-19T07:58:53.324958Z",
     "start_time": "2019-02-19T07:58:53.323030Z"
    }
   },
   "outputs": [],
   "source": [
    "# processed_stopwords = []\n",
    "\n",
    "# for word in stopwords.words('english'):\n",
    "#     processed_stopwords += tokenize(word)\n",
    "    \n",
    "# # print(processed_stopwords)"
   ]
  },
  {
   "cell_type": "code",
   "execution_count": 28,
   "metadata": {
    "ExecuteTime": {
     "end_time": "2019-02-19T08:05:46.351012Z",
     "start_time": "2019-02-19T07:58:54.099349Z"
    }
   },
   "outputs": [],
   "source": [
    "# vectorizer = TfidfVectorizer(strip_accents='ascii',\n",
    "#                              lowercase=True,\n",
    "#                              tokenizer=tokenize,\n",
    "#                              stop_words=processed_stopwords,\n",
    "#                              ngram_range=(1,1),\n",
    "#                              binary=True,\n",
    "#                              norm='l2',\n",
    "#                              analyzer='word')\n",
    "\n",
    "# vectorizer = TfidfVectorizer(binary=True,tokenizer=tokenize)\n",
    "\n",
    "# vectorizer = TfidfVectorizer(tokenizer=tokenize)\n",
    "\n",
    "vectorizer = TfidfVectorizer(tokenizer=tokenize,ngram_range=(1,2))\n",
    "\n",
    "# vectorizer = CountVectorizer(tokenizer=tokenize,ngram_range=(1,2))\n",
    "\n",
    "X_train_counts = vectorizer.fit_transform(X_train)\n",
    "X_dev_counts = vectorizer.transform(X_dev)"
   ]
  },
  {
   "cell_type": "code",
   "execution_count": null,
   "metadata": {
    "ExecuteTime": {
     "end_time": "2019-02-18T11:59:13.795568Z",
     "start_time": "2019-02-18T11:48:38.094Z"
    }
   },
   "outputs": [],
   "source": [
    "# print(X_train_counts)"
   ]
  },
  {
   "cell_type": "code",
   "execution_count": null,
   "metadata": {
    "ExecuteTime": {
     "end_time": "2019-02-18T11:59:13.798128Z",
     "start_time": "2019-02-18T11:48:40.557Z"
    }
   },
   "outputs": [],
   "source": [
    "# from sklearn import preprocessing\n",
    "\n",
    "# scaler = preprocessing.StandardScaler(with_mean=False).fit(X_train_counts)\n",
    "# X_train_counts = scaler.transform(X_train_counts)\n",
    "# X_dev_counts = scaler.transform(X_dev_counts)"
   ]
  },
  {
   "cell_type": "code",
   "execution_count": null,
   "metadata": {
    "ExecuteTime": {
     "end_time": "2019-02-18T11:59:13.800547Z",
     "start_time": "2019-02-18T11:48:41.415Z"
    }
   },
   "outputs": [],
   "source": [
    "# print(X_train_counts)"
   ]
  },
  {
   "cell_type": "markdown",
   "metadata": {},
   "source": [
    "* Try Removeding whole numbers\n",
    "* Try seperating number and text\n",
    "* Try replacing 000ps by ooops\n",
    "* Try removing repeated characters like sssslllleeeepppp."
   ]
  },
  {
   "cell_type": "markdown",
   "metadata": {},
   "source": [
    "# Baseline"
   ]
  },
  {
   "cell_type": "code",
   "execution_count": null,
   "metadata": {
    "ExecuteTime": {
     "end_time": "2019-02-18T11:59:13.803128Z",
     "start_time": "2019-02-18T11:48:46.583Z"
    }
   },
   "outputs": [],
   "source": [
    "# all_5 = list(5*np.ones([len(Y_dev),]))\n",
    "# get_metrics_from_pred(all_5,Y_dev)"
   ]
  },
  {
   "cell_type": "markdown",
   "metadata": {},
   "source": [
    "# Trying Multinomial Naive Bayes"
   ]
  },
  {
   "cell_type": "code",
   "execution_count": null,
   "metadata": {
    "ExecuteTime": {
     "end_time": "2019-02-17T13:43:29.870334Z",
     "start_time": "2019-02-17T13:43:23.123618Z"
    }
   },
   "outputs": [],
   "source": [
    "# model = MultinomialNB()\n",
    "# model.fit(X_train_counts,Y_train)"
   ]
  },
  {
   "cell_type": "code",
   "execution_count": null,
   "metadata": {
    "ExecuteTime": {
     "end_time": "2019-02-17T13:43:34.089194Z",
     "start_time": "2019-02-17T13:43:29.872889Z"
    }
   },
   "outputs": [],
   "source": [
    "# get_metrics(model,X_dev_counts,Y_dev)\n",
    "# get_metrics_using_probs(model,X_dev_counts,Y_dev)"
   ]
  },
  {
   "cell_type": "markdown",
   "metadata": {},
   "source": [
    "# Trying Logistic Regression"
   ]
  },
  {
   "cell_type": "code",
   "execution_count": 22,
   "metadata": {
    "ExecuteTime": {
     "end_time": "2019-02-18T12:26:49.436050Z",
     "start_time": "2019-02-18T12:19:51.049899Z"
    }
   },
   "outputs": [
    {
     "name": "stderr",
     "output_type": "stream",
     "text": [
      "[Parallel(n_jobs=7)]: Using backend ThreadingBackend with 7 concurrent workers.\n"
     ]
    },
    {
     "name": "stdout",
     "output_type": "stream",
     "text": [
      "convergence after 18 epochs took 389 seconds\n",
      "convergence after 19 epochs took 405 seconds\n",
      "convergence after 19 epochs took 406 seconds\n",
      "convergence after 20 epochs took 412 seconds\n",
      "convergence after 21 epochs took 418 seconds\n"
     ]
    },
    {
     "name": "stderr",
     "output_type": "stream",
     "text": [
      "[Parallel(n_jobs=7)]: Done   5 out of   5 | elapsed:  7.0min finished\n"
     ]
    },
    {
     "data": {
      "text/plain": [
       "LogisticRegression(C=1.0, class_weight=None, dual=False, fit_intercept=True,\n",
       "          intercept_scaling=1, max_iter=100, multi_class='ovr', n_jobs=7,\n",
       "          penalty='l2', random_state=None, solver='sag', tol=0.0001,\n",
       "          verbose=1, warm_start=False)"
      ]
     },
     "execution_count": 22,
     "metadata": {},
     "output_type": "execute_result"
    }
   ],
   "source": [
    "model = LogisticRegression(verbose=1,n_jobs=7,solver='sag',multi_class='ovr')\n",
    "model.fit(X_train_counts,Y_train)"
   ]
  },
  {
   "cell_type": "code",
   "execution_count": 23,
   "metadata": {
    "ExecuteTime": {
     "end_time": "2019-02-18T12:26:57.094609Z",
     "start_time": "2019-02-18T12:26:54.436088Z"
    }
   },
   "outputs": [
    {
     "name": "stdout",
     "output_type": "stream",
     "text": [
      "MSE =  0.53488  F1 =  0.6910581415118381  Accuracy =  0.707255\n",
      "MSE =  0.39078704909456885  F1 =  0.6600416234970532  Accuracy =  0.647235\n"
     ]
    },
    {
     "data": {
      "image/png": "[encoded data removed]",
      "text/plain": [
       "<Figure size 288x288 with 2 Axes>"
      ]
     },
     "metadata": {
      "needs_background": "light"
     },
     "output_type": "display_data"
    },
    {
     "data": {
      "image/png": "[encoded data removed]",
      "text/plain": [
       "<Figure size 288x288 with 2 Axes>"
      ]
     },
     "metadata": {
      "needs_background": "light"
     },
     "output_type": "display_data"
    }
   ],
   "source": [
    "get_metrics(model,X_dev_counts,Y_dev)\n",
    "get_metrics_using_probs(model,X_dev_counts,Y_dev)"
   ]
  },
  {
   "cell_type": "code",
   "execution_count": null,
   "metadata": {
    "ExecuteTime": {
     "start_time": "2019-02-17T13:52:09.661Z"
    }
   },
   "outputs": [],
   "source": [
    "# model = LogisticRegression(verbose=1,n_jobs=7,class_weight='balanced',multi_class='ovr',solver='liblinear')\n",
    "# model.fit(X_train_counts,Y_train)"
   ]
  },
  {
   "cell_type": "code",
   "execution_count": null,
   "metadata": {
    "ExecuteTime": {
     "start_time": "2019-02-17T13:52:09.883Z"
    }
   },
   "outputs": [],
   "source": [
    "# get_metrics(model,X_dev_counts,Y_dev)\n",
    "# get_metrics_using_probs(model,X_dev_counts,Y_dev)"
   ]
  },
  {
   "cell_type": "code",
   "execution_count": null,
   "metadata": {
    "ExecuteTime": {
     "start_time": "2019-02-17T13:52:10.086Z"
    }
   },
   "outputs": [],
   "source": [
    "# model = LogisticRegression(verbose=1,n_jobs=7,class_weight='balanced',multi_class='multinomial',solver='lbfgs')\n",
    "# model.fit(X_train_counts,Y_train)"
   ]
  },
  {
   "cell_type": "code",
   "execution_count": null,
   "metadata": {
    "ExecuteTime": {
     "start_time": "2019-02-17T13:52:10.263Z"
    }
   },
   "outputs": [],
   "source": [
    "# get_metrics(model,X_dev_counts,Y_dev)\n",
    "# get_metrics_using_probs(model,X_dev_counts,Y_dev)"
   ]
  },
  {
   "cell_type": "code",
   "execution_count": null,
   "metadata": {
    "ExecuteTime": {
     "start_time": "2019-02-17T13:52:10.466Z"
    }
   },
   "outputs": [],
   "source": [
    "# model = LogisticRegression(verbose=1,n_jobs=7,class_weight='balanced',multi_class='ovr',solver='liblinear',penalty='l1')\n",
    "# model.fit(X_train_counts,Y_train)"
   ]
  },
  {
   "cell_type": "code",
   "execution_count": null,
   "metadata": {
    "ExecuteTime": {
     "start_time": "2019-02-17T13:52:10.676Z"
    }
   },
   "outputs": [],
   "source": [
    "# get_metrics(model,X_dev_counts,Y_dev)\n",
    "# get_metrics_using_probs(model,X_dev_counts,Y_dev)"
   ]
  },
  {
   "cell_type": "code",
   "execution_count": null,
   "metadata": {
    "ExecuteTime": {
     "start_time": "2019-02-17T13:52:10.896Z"
    }
   },
   "outputs": [],
   "source": [
    "# model = LogisticRegression(verbose=1,n_jobs=7,class_weight='balanced',multi_class='multinomial',solver='saga',penalty='l1')\n",
    "# model.fit(X_train_counts,Y_train)"
   ]
  },
  {
   "cell_type": "code",
   "execution_count": null,
   "metadata": {
    "ExecuteTime": {
     "start_time": "2019-02-17T13:52:11.119Z"
    }
   },
   "outputs": [],
   "source": [
    "# get_metrics(model,X_dev_counts,Y_dev)\n",
    "# get_metrics_using_probs(model,X_dev_counts,Y_dev)"
   ]
  },
  {
   "cell_type": "markdown",
   "metadata": {},
   "source": [
    "# Linear Regression"
   ]
  },
  {
   "cell_type": "code",
   "execution_count": null,
   "metadata": {
    "ExecuteTime": {
     "start_time": "2019-02-17T13:52:11.605Z"
    }
   },
   "outputs": [],
   "source": [
    "# model = LinearRegression(n_jobs=7)\n",
    "# model.fit(X_train_counts,Y_train)"
   ]
  },
  {
   "cell_type": "code",
   "execution_count": null,
   "metadata": {
    "ExecuteTime": {
     "start_time": "2019-02-17T13:52:12.000Z"
    }
   },
   "outputs": [],
   "source": [
    "# get_metrics(model,X_dev_counts,Y_dev)"
   ]
  },
  {
   "cell_type": "markdown",
   "metadata": {},
   "source": [
    "# SGD Classifier"
   ]
  },
  {
   "cell_type": "code",
   "execution_count": null,
   "metadata": {
    "ExecuteTime": {
     "start_time": "2019-02-17T13:52:13.315Z"
    }
   },
   "outputs": [],
   "source": [
    "# model = SGDClassifier(n_jobs=7,verbose=True)\n",
    "# model.fit(X_train_counts,Y_train)"
   ]
  },
  {
   "cell_type": "code",
   "execution_count": null,
   "metadata": {
    "ExecuteTime": {
     "start_time": "2019-02-17T13:52:13.872Z"
    }
   },
   "outputs": [],
   "source": [
    "# get_metrics(model,X_dev_counts,Y_dev)"
   ]
  },
  {
   "cell_type": "markdown",
   "metadata": {},
   "source": [
    "# ElasticNet"
   ]
  },
  {
   "cell_type": "code",
   "execution_count": null,
   "metadata": {
    "ExecuteTime": {
     "start_time": "2019-02-17T13:52:14.419Z"
    }
   },
   "outputs": [],
   "source": [
    "# model = ElasticNet()\n",
    "# model.fit(X_train_counts,Y_train)"
   ]
  },
  {
   "cell_type": "code",
   "execution_count": null,
   "metadata": {
    "ExecuteTime": {
     "start_time": "2019-02-17T13:52:15.241Z"
    }
   },
   "outputs": [],
   "source": [
    "# get_metrics(model,X_dev_counts,Y_dev)"
   ]
  },
  {
   "cell_type": "markdown",
   "metadata": {},
   "source": [
    "# GradientBoostingClassifier"
   ]
  },
  {
   "cell_type": "code",
   "execution_count": null,
   "metadata": {
    "ExecuteTime": {
     "start_time": "2019-02-17T13:52:15.756Z"
    }
   },
   "outputs": [],
   "source": [
    "# model = GradientBoostingClassifier(verbose=True)\n",
    "# model.fit(X_train_counts,Y_train)"
   ]
  },
  {
   "cell_type": "code",
   "execution_count": null,
   "metadata": {
    "ExecuteTime": {
     "start_time": "2019-02-17T13:52:15.834Z"
    }
   },
   "outputs": [],
   "source": [
    "# get_metrics(model,X_dev_counts,Y_dev)"
   ]
  },
  {
   "cell_type": "markdown",
   "metadata": {},
   "source": [
    "# Complicated Model ( Tree with two branches 1-3 and 4-5)"
   ]
  },
  {
   "cell_type": "code",
   "execution_count": null,
   "metadata": {
    "ExecuteTime": {
     "start_time": "2019-02-17T13:52:23.868Z"
    }
   },
   "outputs": [],
   "source": [
    "indices = np.where(list(map(lambda x:x>3,Y_train)))[0]\n",
    "X_train_counts_4_5 = X_train_counts[indices]\n",
    "Y_train_4_5 = [Y_train[j] for j in indices]\n",
    "\n",
    "indices = np.where(list(map(lambda x:x<=3,Y_train)))[0]\n",
    "X_train_counts_1_3 = X_train_counts[indices]\n",
    "Y_train_1_3 = [Y_train[j] for j in indices]"
   ]
  },
  {
   "cell_type": "code",
   "execution_count": null,
   "metadata": {
    "ExecuteTime": {
     "start_time": "2019-02-17T13:52:27.655Z"
    }
   },
   "outputs": [],
   "source": [
    "Y_modified = list(map(lambda x:int(x>3),Y_train))"
   ]
  },
  {
   "cell_type": "code",
   "execution_count": null,
   "metadata": {
    "ExecuteTime": {
     "start_time": "2019-02-17T13:52:28.530Z"
    }
   },
   "outputs": [],
   "source": [
    "model1 = LogisticRegression(verbose=1,n_jobs=7,solver='sag')\n",
    "model1.fit(X_train_counts,Y_modified)"
   ]
  },
  {
   "cell_type": "code",
   "execution_count": null,
   "metadata": {
    "ExecuteTime": {
     "start_time": "2019-02-17T13:52:32.732Z"
    }
   },
   "outputs": [],
   "source": [
    "model2 = LogisticRegression(verbose=1,n_jobs=7,solver='sag')\n",
    "model2.fit(X_train_counts_4_5,Y_train_4_5)"
   ]
  },
  {
   "cell_type": "code",
   "execution_count": null,
   "metadata": {
    "ExecuteTime": {
     "end_time": "2019-02-17T13:27:54.058411Z",
     "start_time": "2019-02-17T13:17:10.326Z"
    }
   },
   "outputs": [],
   "source": [
    "model3 = LogisticRegression(verbose=1,n_jobs=7,solver='sag',multi_class='ovr')\n",
    "model3.fit(X_train_counts_1_3,Y_train_1_3)"
   ]
  },
  {
   "cell_type": "code",
   "execution_count": null,
   "metadata": {
    "ExecuteTime": {
     "end_time": "2019-02-17T13:27:54.059627Z",
     "start_time": "2019-02-17T13:17:10.330Z"
    }
   },
   "outputs": [],
   "source": [
    "pred1 = model1.predict(X_dev_counts)\n",
    "pred2 = model2.predict_proba(X_dev_counts)\n",
    "pred3 = model3.predict_proba(X_dev_counts)\n",
    "\n",
    "pred = []\n",
    "\n",
    "for i in tqdm(range(len(pred1))):\n",
    "    if(pred1[i] == 1):\n",
    "        pred.append(pred2[i][0]*4.0 + pred2[i][1]*5.0)\n",
    "    else:\n",
    "        pred.append(pred3[i][0]*1.0 + pred3[i][1]*2.0 + pred3[i][2]*3.0)\n",
    "\n",
    "get_metrics_from_pred(pred,Y_dev)"
   ]
  },
  {
   "cell_type": "markdown",
   "metadata": {},
   "source": [
    "# Another Try (Tree with negative ,neutral and positive review)"
   ]
  },
  {
   "cell_type": "code",
   "execution_count": 24,
   "metadata": {
    "ExecuteTime": {
     "end_time": "2019-02-18T12:27:17.270763Z",
     "start_time": "2019-02-18T12:27:10.720241Z"
    }
   },
   "outputs": [],
   "source": [
    "indices = np.where(list(map(lambda x:x>3,Y_train)))[0]\n",
    "X_train_counts_4_5 = X_train_counts[indices]\n",
    "Y_train_4_5 = [Y_train[j] for j in indices]\n",
    "\n",
    "indices = np.where(list(map(lambda x:x<3,Y_train)))[0]\n",
    "X_train_counts_1_2 = X_train_counts[indices]\n",
    "Y_train_1_2 = [Y_train[j] for j in indices]\n",
    "\n",
    "indices = np.where(list(map(lambda x:x==3,Y_train)))[0]\n",
    "X_train_counts_3 = X_train_counts[indices]\n",
    "Y_train_3 = [Y_train[j] for j in indices]"
   ]
  },
  {
   "cell_type": "code",
   "execution_count": 25,
   "metadata": {
    "ExecuteTime": {
     "end_time": "2019-02-18T12:27:18.870042Z",
     "start_time": "2019-02-18T12:27:18.667889Z"
    }
   },
   "outputs": [],
   "source": [
    "def modif(x):\n",
    "    if (x==3):\n",
    "        return 1\n",
    "    elif(x>3):\n",
    "        return 2\n",
    "    else:\n",
    "        return 0\n",
    "\n",
    "Y_modified = list(map(lambda x: modif(x),Y_train))"
   ]
  },
  {
   "cell_type": "code",
   "execution_count": 26,
   "metadata": {
    "ExecuteTime": {
     "end_time": "2019-02-18T12:31:01.801390Z",
     "start_time": "2019-02-18T12:27:20.096458Z"
    }
   },
   "outputs": [
    {
     "name": "stderr",
     "output_type": "stream",
     "text": [
      "[Parallel(n_jobs=7)]: Using backend ThreadingBackend with 7 concurrent workers.\n"
     ]
    },
    {
     "name": "stdout",
     "output_type": "stream",
     "text": [
      "convergence after 19 epochs took 215 seconds\n",
      "convergence after 19 epochs took 216 seconds\n",
      "convergence after 20 epochs took 221 seconds\n"
     ]
    },
    {
     "name": "stderr",
     "output_type": "stream",
     "text": [
      "[Parallel(n_jobs=7)]: Done   3 out of   3 | elapsed:  3.7min finished\n"
     ]
    },
    {
     "data": {
      "text/plain": [
       "LogisticRegression(C=1.0, class_weight=None, dual=False, fit_intercept=True,\n",
       "          intercept_scaling=1, max_iter=100, multi_class='ovr', n_jobs=7,\n",
       "          penalty='l2', random_state=None, solver='sag', tol=0.0001,\n",
       "          verbose=1, warm_start=False)"
      ]
     },
     "execution_count": 26,
     "metadata": {},
     "output_type": "execute_result"
    }
   ],
   "source": [
    "model1 = LogisticRegression(verbose=1,n_jobs=7,solver='sag',multi_class='ovr')\n",
    "model1.fit(X_train_counts,Y_modified)"
   ]
  },
  {
   "cell_type": "code",
   "execution_count": 27,
   "metadata": {
    "ExecuteTime": {
     "end_time": "2019-02-18T12:32:19.470735Z",
     "start_time": "2019-02-18T12:31:13.432376Z"
    }
   },
   "outputs": [
    {
     "name": "stderr",
     "output_type": "stream",
     "text": [
      "[Parallel(n_jobs=7)]: Using backend ThreadingBackend with 7 concurrent workers.\n"
     ]
    },
    {
     "name": "stdout",
     "output_type": "stream",
     "text": [
      "convergence after 20 epochs took 66 seconds\n"
     ]
    },
    {
     "name": "stderr",
     "output_type": "stream",
     "text": [
      "[Parallel(n_jobs=7)]: Done   1 out of   1 | elapsed:  1.1min finished\n"
     ]
    },
    {
     "data": {
      "text/plain": [
       "LogisticRegression(C=1.0, class_weight=None, dual=False, fit_intercept=True,\n",
       "          intercept_scaling=1, max_iter=100, multi_class='warn', n_jobs=7,\n",
       "          penalty='l2', random_state=None, solver='sag', tol=0.0001,\n",
       "          verbose=1, warm_start=False)"
      ]
     },
     "execution_count": 27,
     "metadata": {},
     "output_type": "execute_result"
    }
   ],
   "source": [
    "model2 = LogisticRegression(verbose=1,n_jobs=7,solver='sag')\n",
    "model2.fit(X_train_counts_4_5,Y_train_4_5)"
   ]
  },
  {
   "cell_type": "code",
   "execution_count": 28,
   "metadata": {
    "ExecuteTime": {
     "end_time": "2019-02-18T12:33:19.574116Z",
     "start_time": "2019-02-18T12:32:46.236467Z"
    }
   },
   "outputs": [
    {
     "name": "stderr",
     "output_type": "stream",
     "text": [
      "[Parallel(n_jobs=7)]: Using backend ThreadingBackend with 7 concurrent workers.\n"
     ]
    },
    {
     "name": "stdout",
     "output_type": "stream",
     "text": [
      "convergence after 20 epochs took 33 seconds\n"
     ]
    },
    {
     "name": "stderr",
     "output_type": "stream",
     "text": [
      "[Parallel(n_jobs=7)]: Done   1 out of   1 | elapsed:   33.1s finished\n"
     ]
    },
    {
     "data": {
      "text/plain": [
       "LogisticRegression(C=1.0, class_weight=None, dual=False, fit_intercept=True,\n",
       "          intercept_scaling=1, max_iter=100, multi_class='warn', n_jobs=7,\n",
       "          penalty='l2', random_state=None, solver='sag', tol=0.0001,\n",
       "          verbose=1, warm_start=False)"
      ]
     },
     "execution_count": 28,
     "metadata": {},
     "output_type": "execute_result"
    }
   ],
   "source": [
    "model3 = LogisticRegression(verbose=1,n_jobs=7,solver='sag')\n",
    "model3.fit(X_train_counts_1_2,Y_train_1_2)"
   ]
  },
  {
   "cell_type": "code",
   "execution_count": 29,
   "metadata": {
    "ExecuteTime": {
     "end_time": "2019-02-18T12:34:27.464347Z",
     "start_time": "2019-02-18T12:34:24.621908Z"
    }
   },
   "outputs": [
    {
     "data": {
      "application/vnd.jupyter.widget-view+json": {
       "model_id": "e2b7695b4fda4a778796af75212b671e",
       "version_major": 2,
       "version_minor": 0
      },
      "text/plain": [
       "HBox(children=(IntProgress(value=0, max=200000), HTML(value='')))"
      ]
     },
     "metadata": {},
     "output_type": "display_data"
    },
    {
     "name": "stdout",
     "output_type": "stream",
     "text": [
      "\n",
      "MSE =  0.46026449870061914  F1 =  0.692464233094942  Accuracy =  0.707425\n"
     ]
    },
    {
     "data": {
      "image/png": "[encoded data removed]",
      "text/plain": [
       "<Figure size 288x288 with 2 Axes>"
      ]
     },
     "metadata": {
      "needs_background": "light"
     },
     "output_type": "display_data"
    }
   ],
   "source": [
    "pred1 = model1.predict(X_dev_counts)\n",
    "pred1_p = model1.predict_proba(X_dev_counts)\n",
    "pred2 = model2.predict_proba(X_dev_counts)\n",
    "pred3 = model3.predict_proba(X_dev_counts)\n",
    "\n",
    "pred = []\n",
    "\n",
    "for i in tqdm(range(len(pred1))):\n",
    "    if(pred1[i] == 0):\n",
    "        pred.append(pred3[i][0]*1.0 + pred3[i][1]*2.0)\n",
    "    elif(pred1[i] == 1):\n",
    "        pred.append(pred1_p[i][0]*1.5 + pred1_p[i][1]*3 + pred1_p[i][2]*4.5)\n",
    "    elif(pred1[i] == 2):\n",
    "        pred.append(pred2[i][0]*4.0 + pred2[i][1]*5.0)\n",
    "\n",
    "get_metrics_from_pred(pred,Y_dev)"
   ]
  },
  {
   "cell_type": "code",
   "execution_count": 30,
   "metadata": {
    "ExecuteTime": {
     "end_time": "2019-02-18T12:34:33.279459Z",
     "start_time": "2019-02-18T12:34:30.351892Z"
    }
   },
   "outputs": [
    {
     "data": {
      "application/vnd.jupyter.widget-view+json": {
       "model_id": "7585feedc8e34484a6a876c9373e62d6",
       "version_major": 2,
       "version_minor": 0
      },
      "text/plain": [
       "HBox(children=(IntProgress(value=0, max=200000), HTML(value='')))"
      ]
     },
     "metadata": {},
     "output_type": "display_data"
    },
    {
     "name": "stdout",
     "output_type": "stream",
     "text": [
      "\n",
      "MSE =  0.3752686829087851  F1 =  0.6731445579059282  Accuracy =  0.66167\n"
     ]
    },
    {
     "data": {
      "image/png": "[encoded data removed]",
      "text/plain": [
       "<Figure size 288x288 with 2 Axes>"
      ]
     },
     "metadata": {
      "needs_background": "light"
     },
     "output_type": "display_data"
    }
   ],
   "source": [
    "pred_n_3_p = model1.predict_proba(X_dev_counts)\n",
    "pred_4_5 = model2.predict_proba(X_dev_counts)\n",
    "pred_1_2 = model3.predict_proba(X_dev_counts)\n",
    "\n",
    "pred = []\n",
    "\n",
    "for i in tqdm(range(len(pred1))):\n",
    "    pred.append(pred_n_3_p[i][0]*pred_1_2[i][0]*1.0 + pred_n_3_p[i][0]*pred_1_2[i][1]*2.0 + pred_n_3_p[i][1]*3.0 + pred_n_3_p[i][2]*pred_4_5[i][0]*4.0 + pred_n_3_p[i][2]*pred_4_5[i][1]*5.0)\n",
    "\n",
    "get_metrics_from_pred(pred,Y_dev)"
   ]
  },
  {
   "cell_type": "markdown",
   "metadata": {},
   "source": [
    "# Voting Classifier (With simple ovr logistive regression and multinomial naive bayes)"
   ]
  },
  {
   "cell_type": "code",
   "execution_count": null,
   "metadata": {
    "ExecuteTime": {
     "end_time": "2019-02-17T13:27:54.073488Z",
     "start_time": "2019-02-17T13:17:10.383Z"
    }
   },
   "outputs": [],
   "source": [
    "# m1 = LogisticRegression(verbose=1,n_jobs=7,solver='sag',multi_class='ovr')\n",
    "# m2 = MultinomialNB()\n",
    "\n",
    "# model = VotingClassifier(estimators=[('lr', m1),('gnb', m2)],voting='soft')\n",
    "# model.fit(X_train_counts,Y_train)                                     "
   ]
  },
  {
   "cell_type": "code",
   "execution_count": null,
   "metadata": {
    "ExecuteTime": {
     "end_time": "2019-02-17T13:27:54.074447Z",
     "start_time": "2019-02-17T13:17:10.386Z"
    }
   },
   "outputs": [],
   "source": [
    "# get_metrics(model,X_dev_counts,Y_dev)\n",
    "# get_metrics_using_probs(model,X_dev_counts,Y_dev)"
   ]
  },
  {
   "cell_type": "markdown",
   "metadata": {},
   "source": [
    "# Binary Logistics Everywhere (Tree with base classified as neutral or 1-3&4-5)"
   ]
  },
  {
   "cell_type": "code",
   "execution_count": 10,
   "metadata": {
    "ExecuteTime": {
     "end_time": "2019-02-18T12:12:33.455714Z",
     "start_time": "2019-02-18T12:12:22.842530Z"
    }
   },
   "outputs": [],
   "source": [
    "indices = np.where(list(map(lambda x: x!=3,Y_train)))[0]\n",
    "X_train_counts_p_n = X_train_counts[indices]\n",
    "Y_train_p_n = [1 if Y_train[j]>3 else 0 for j in indices]\n",
    "\n",
    "indices = np.where(list(map(lambda x:x>3,Y_train)))[0]\n",
    "X_train_counts_4_5 = X_train_counts[indices]\n",
    "Y_train_4_5 = [Y_train[j] for j in indices]\n",
    "\n",
    "indices = np.where(list(map(lambda x:x<3,Y_train)))[0]\n",
    "X_train_counts_1_2 = X_train_counts[indices]\n",
    "Y_train_1_2 = [Y_train[j] for j in indices]"
   ]
  },
  {
   "cell_type": "code",
   "execution_count": 11,
   "metadata": {
    "ExecuteTime": {
     "end_time": "2019-02-18T12:12:41.357223Z",
     "start_time": "2019-02-18T12:12:41.207339Z"
    }
   },
   "outputs": [],
   "source": [
    "def modif(x):\n",
    "    if (x==3):\n",
    "        return 1\n",
    "    else:\n",
    "        return 0\n",
    "\n",
    "Y_modified = list(map(lambda x: modif(x),Y_train))"
   ]
  },
  {
   "cell_type": "code",
   "execution_count": 12,
   "metadata": {
    "ExecuteTime": {
     "end_time": "2019-02-18T12:14:23.798254Z",
     "start_time": "2019-02-18T12:12:42.530978Z"
    }
   },
   "outputs": [
    {
     "name": "stderr",
     "output_type": "stream",
     "text": [
      "[Parallel(n_jobs=7)]: Using backend ThreadingBackend with 7 concurrent workers.\n"
     ]
    },
    {
     "name": "stdout",
     "output_type": "stream",
     "text": [
      "convergence after 19 epochs took 100 seconds\n"
     ]
    },
    {
     "name": "stderr",
     "output_type": "stream",
     "text": [
      "[Parallel(n_jobs=7)]: Done   1 out of   1 | elapsed:  1.7min finished\n"
     ]
    },
    {
     "data": {
      "text/plain": [
       "LogisticRegression(C=1.0, class_weight=None, dual=False, fit_intercept=True,\n",
       "          intercept_scaling=1, max_iter=100, multi_class='warn', n_jobs=7,\n",
       "          penalty='l2', random_state=None, solver='sag', tol=0.0001,\n",
       "          verbose=1, warm_start=False)"
      ]
     },
     "execution_count": 12,
     "metadata": {},
     "output_type": "execute_result"
    }
   ],
   "source": [
    "model_neutral = LogisticRegression(verbose=1,n_jobs=7,solver='sag')\n",
    "model_neutral.fit(X_train_counts,Y_modified)"
   ]
  },
  {
   "cell_type": "code",
   "execution_count": 13,
   "metadata": {
    "ExecuteTime": {
     "end_time": "2019-02-18T12:15:51.916022Z",
     "start_time": "2019-02-18T12:14:29.345590Z"
    }
   },
   "outputs": [
    {
     "name": "stderr",
     "output_type": "stream",
     "text": [
      "[Parallel(n_jobs=7)]: Using backend ThreadingBackend with 7 concurrent workers.\n"
     ]
    },
    {
     "name": "stdout",
     "output_type": "stream",
     "text": [
      "convergence after 18 epochs took 82 seconds\n"
     ]
    },
    {
     "name": "stderr",
     "output_type": "stream",
     "text": [
      "[Parallel(n_jobs=7)]: Done   1 out of   1 | elapsed:  1.4min finished\n"
     ]
    },
    {
     "data": {
      "text/plain": [
       "LogisticRegression(C=1.0, class_weight=None, dual=False, fit_intercept=True,\n",
       "          intercept_scaling=1, max_iter=100, multi_class='warn', n_jobs=7,\n",
       "          penalty='l2', random_state=None, solver='sag', tol=0.0001,\n",
       "          verbose=1, warm_start=False)"
      ]
     },
     "execution_count": 13,
     "metadata": {},
     "output_type": "execute_result"
    }
   ],
   "source": [
    "model_n_p = LogisticRegression(verbose=1,n_jobs=7,solver='sag')\n",
    "model_n_p.fit(X_train_counts_p_n,Y_train_p_n)"
   ]
  },
  {
   "cell_type": "code",
   "execution_count": 14,
   "metadata": {
    "ExecuteTime": {
     "end_time": "2019-02-18T12:17:09.137597Z",
     "start_time": "2019-02-18T12:15:55.870231Z"
    }
   },
   "outputs": [
    {
     "name": "stderr",
     "output_type": "stream",
     "text": [
      "[Parallel(n_jobs=7)]: Using backend ThreadingBackend with 7 concurrent workers.\n"
     ]
    },
    {
     "name": "stdout",
     "output_type": "stream",
     "text": [
      "convergence after 23 epochs took 72 seconds\n"
     ]
    },
    {
     "name": "stderr",
     "output_type": "stream",
     "text": [
      "[Parallel(n_jobs=7)]: Done   1 out of   1 | elapsed:  1.2min finished\n"
     ]
    },
    {
     "data": {
      "text/plain": [
       "LogisticRegression(C=1.0, class_weight=None, dual=False, fit_intercept=True,\n",
       "          intercept_scaling=1, max_iter=100, multi_class='warn', n_jobs=7,\n",
       "          penalty='l2', random_state=None, solver='sag', tol=0.0001,\n",
       "          verbose=1, warm_start=False)"
      ]
     },
     "execution_count": 14,
     "metadata": {},
     "output_type": "execute_result"
    }
   ],
   "source": [
    "model_4_5 = LogisticRegression(verbose=1,n_jobs=7,solver='sag')\n",
    "model_4_5.fit(X_train_counts_4_5,Y_train_4_5)"
   ]
  },
  {
   "cell_type": "code",
   "execution_count": 15,
   "metadata": {
    "ExecuteTime": {
     "end_time": "2019-02-18T12:17:41.613165Z",
     "start_time": "2019-02-18T12:17:11.792269Z"
    }
   },
   "outputs": [
    {
     "name": "stderr",
     "output_type": "stream",
     "text": [
      "[Parallel(n_jobs=7)]: Using backend ThreadingBackend with 7 concurrent workers.\n"
     ]
    },
    {
     "name": "stdout",
     "output_type": "stream",
     "text": [
      "convergence after 19 epochs took 30 seconds\n"
     ]
    },
    {
     "name": "stderr",
     "output_type": "stream",
     "text": [
      "[Parallel(n_jobs=7)]: Done   1 out of   1 | elapsed:   29.6s finished\n"
     ]
    },
    {
     "data": {
      "text/plain": [
       "LogisticRegression(C=1.0, class_weight=None, dual=False, fit_intercept=True,\n",
       "          intercept_scaling=1, max_iter=100, multi_class='warn', n_jobs=7,\n",
       "          penalty='l2', random_state=None, solver='sag', tol=0.0001,\n",
       "          verbose=1, warm_start=False)"
      ]
     },
     "execution_count": 15,
     "metadata": {},
     "output_type": "execute_result"
    }
   ],
   "source": [
    "model_1_2 = LogisticRegression(verbose=1,n_jobs=7,solver='sag')\n",
    "model_1_2.fit(X_train_counts_1_2,Y_train_1_2)"
   ]
  },
  {
   "cell_type": "code",
   "execution_count": 19,
   "metadata": {
    "ExecuteTime": {
     "end_time": "2019-02-18T12:18:53.180759Z",
     "start_time": "2019-02-18T12:18:49.940942Z"
    }
   },
   "outputs": [
    {
     "data": {
      "application/vnd.jupyter.widget-view+json": {
       "model_id": "cd97c59eabe74da498b2ca0d78977a16",
       "version_major": 2,
       "version_minor": 0
      },
      "text/plain": [
       "HBox(children=(IntProgress(value=0, max=200000), HTML(value='')))"
      ]
     },
     "metadata": {},
     "output_type": "display_data"
    },
    {
     "name": "stdout",
     "output_type": "stream",
     "text": [
      "\n",
      "MSE =  0.38107410386825097  F1 =  0.6747373529661828  Accuracy =  0.66288\n"
     ]
    },
    {
     "data": {
      "image/png": "[encoded data removed]",
      "text/plain": [
       "<Figure size 288x288 with 2 Axes>"
      ]
     },
     "metadata": {
      "needs_background": "light"
     },
     "output_type": "display_data"
    }
   ],
   "source": [
    "pred_neutral = model_neutral.predict_proba(X_dev_counts)\n",
    "pred_n_p = model_n_p.predict_proba(X_dev_counts)\n",
    "pred_1_2 = model_1_2.predict_proba(X_dev_counts)\n",
    "pred_4_5 = model_4_5.predict_proba(X_dev_counts)\n",
    "\n",
    "pred = []\n",
    "\n",
    "for i in tqdm(range(len(pred_neutral))):\n",
    "    pred.append(pred_neutral[i][1]*3.0 +\n",
    "                pred_neutral[i][0]*pred_n_p[i][0]*pred_1_2[i][0]*1.0 +\n",
    "                pred_neutral[i][0]*pred_n_p[i][0]*pred_1_2[i][1]*2.0+\n",
    "                pred_neutral[i][0]*pred_n_p[i][1]*pred_4_5[i][0]*4.0+\n",
    "                pred_neutral[i][0]*pred_n_p[i][1]*pred_4_5[i][1]*5.0)\n",
    "get_metrics_from_pred(pred,Y_dev)"
   ]
  },
  {
   "cell_type": "code",
   "execution_count": 21,
   "metadata": {
    "ExecuteTime": {
     "end_time": "2019-02-18T12:19:24.689267Z",
     "start_time": "2019-02-18T12:19:22.237816Z"
    }
   },
   "outputs": [
    {
     "data": {
      "application/vnd.jupyter.widget-view+json": {
       "model_id": "a9c358c073104ae59a514d771c417712",
       "version_major": 2,
       "version_minor": 0
      },
      "text/plain": [
       "HBox(children=(IntProgress(value=0, max=200000), HTML(value='')))"
      ]
     },
     "metadata": {},
     "output_type": "display_data"
    },
    {
     "name": "stdout",
     "output_type": "stream",
     "text": [
      "\n",
      "MSE =  0.534325  F1 =  0.6853456518460236  Accuracy =  0.70119\n"
     ]
    },
    {
     "data": {
      "image/png": "[encoded data removed]",
      "text/plain": [
       "<Figure size 288x288 with 2 Axes>"
      ]
     },
     "metadata": {
      "needs_background": "light"
     },
     "output_type": "display_data"
    }
   ],
   "source": [
    "pred_neutral_c = model_neutral.predict(X_dev_counts)\n",
    "pred_neutral = model_neutral.predict_proba(X_dev_counts)\n",
    "pred_n_p_c = model_n_p.predict(X_dev_counts)\n",
    "pred_n_p = model_n_p.predict_proba(X_dev_counts)\n",
    "pred_1_2_c = model_1_2.predict(X_dev_counts)\n",
    "pred_1_2 = model_1_2.predict_proba(X_dev_counts)\n",
    "pred_4_5_c = model_4_5.predict(X_dev_counts)\n",
    "pred_4_5 = model_4_5.predict_proba(X_dev_counts)\n",
    "\n",
    "pred = []\n",
    "\n",
    "for i in tqdm(range(len(pred_neutral))):\n",
    "    if(pred_neutral_c[i] == 1):\n",
    "        pred.append(3)\n",
    "    else:\n",
    "        if(pred_n_p_c[i] == 0):\n",
    "            pred.append(pred_1_2_c[i])\n",
    "        else:\n",
    "            pred.append(pred_4_5_c[i])\n",
    "get_metrics_from_pred(pred,Y_dev)"
   ]
  },
  {
   "cell_type": "markdown",
   "metadata": {},
   "source": [
    "# Another Try (Full tree leaning towards 1)"
   ]
  },
  {
   "cell_type": "code",
   "execution_count": 31,
   "metadata": {
    "ExecuteTime": {
     "end_time": "2019-02-18T12:35:06.343429Z",
     "start_time": "2019-02-18T12:34:57.724855Z"
    }
   },
   "outputs": [],
   "source": [
    "indices = np.where(list(map(lambda x: x<=3,Y_train)))[0]\n",
    "X_train_counts_12_3 = X_train_counts[indices]\n",
    "Y_train_12_3 = [1 if Y_train[j]==3 else 0 for j in indices]\n",
    "\n",
    "indices = np.where(list(map(lambda x:x>3,Y_train)))[0]\n",
    "X_train_counts_4_5 = X_train_counts[indices]\n",
    "Y_train_4_5 = [Y_train[j] for j in indices]\n",
    "\n",
    "indices = np.where(list(map(lambda x:x<3,Y_train)))[0]\n",
    "X_train_counts_1_2 = X_train_counts[indices]\n",
    "Y_train_1_2 = [Y_train[j] for j in indices]"
   ]
  },
  {
   "cell_type": "code",
   "execution_count": 32,
   "metadata": {
    "ExecuteTime": {
     "end_time": "2019-02-18T12:35:08.073743Z",
     "start_time": "2019-02-18T12:35:07.909899Z"
    }
   },
   "outputs": [],
   "source": [
    "def modif(x):\n",
    "    if (x>3):\n",
    "        return 1\n",
    "    else:\n",
    "        return 0\n",
    "\n",
    "Y_modified = list(map(lambda x: modif(x),Y_train))"
   ]
  },
  {
   "cell_type": "code",
   "execution_count": 33,
   "metadata": {
    "ExecuteTime": {
     "end_time": "2019-02-18T12:36:54.604878Z",
     "start_time": "2019-02-18T12:35:14.047144Z"
    }
   },
   "outputs": [
    {
     "name": "stderr",
     "output_type": "stream",
     "text": [
      "[Parallel(n_jobs=7)]: Using backend ThreadingBackend with 7 concurrent workers.\n"
     ]
    },
    {
     "name": "stdout",
     "output_type": "stream",
     "text": [
      "convergence after 18 epochs took 100 seconds\n"
     ]
    },
    {
     "name": "stderr",
     "output_type": "stream",
     "text": [
      "[Parallel(n_jobs=7)]: Done   1 out of   1 | elapsed:  1.7min finished\n"
     ]
    },
    {
     "data": {
      "text/plain": [
       "LogisticRegression(C=1.0, class_weight=None, dual=False, fit_intercept=True,\n",
       "          intercept_scaling=1, max_iter=100, multi_class='warn', n_jobs=7,\n",
       "          penalty='l2', random_state=None, solver='sag', tol=0.0001,\n",
       "          verbose=1, warm_start=False)"
      ]
     },
     "execution_count": 33,
     "metadata": {},
     "output_type": "execute_result"
    }
   ],
   "source": [
    "model_123_45 = LogisticRegression(verbose=1,n_jobs=7,solver='sag')\n",
    "model_123_45.fit(X_train_counts,Y_modified)"
   ]
  },
  {
   "cell_type": "code",
   "execution_count": 34,
   "metadata": {
    "ExecuteTime": {
     "end_time": "2019-02-18T12:38:08.582378Z",
     "start_time": "2019-02-18T12:37:00.429643Z"
    }
   },
   "outputs": [
    {
     "name": "stderr",
     "output_type": "stream",
     "text": [
      "[Parallel(n_jobs=7)]: Using backend ThreadingBackend with 7 concurrent workers.\n"
     ]
    },
    {
     "name": "stdout",
     "output_type": "stream",
     "text": [
      "convergence after 21 epochs took 68 seconds\n"
     ]
    },
    {
     "name": "stderr",
     "output_type": "stream",
     "text": [
      "[Parallel(n_jobs=7)]: Done   1 out of   1 | elapsed:  1.1min finished\n"
     ]
    },
    {
     "data": {
      "text/plain": [
       "LogisticRegression(C=1.0, class_weight=None, dual=False, fit_intercept=True,\n",
       "          intercept_scaling=1, max_iter=100, multi_class='warn', n_jobs=7,\n",
       "          penalty='l2', random_state=None, solver='sag', tol=0.0001,\n",
       "          verbose=1, warm_start=False)"
      ]
     },
     "execution_count": 34,
     "metadata": {},
     "output_type": "execute_result"
    }
   ],
   "source": [
    "model_4_5 = LogisticRegression(verbose=1,n_jobs=7,solver='sag')\n",
    "model_4_5.fit(X_train_counts_4_5,Y_train_4_5)"
   ]
  },
  {
   "cell_type": "code",
   "execution_count": 35,
   "metadata": {
    "ExecuteTime": {
     "end_time": "2019-02-18T12:38:57.357474Z",
     "start_time": "2019-02-18T12:38:10.547744Z"
    }
   },
   "outputs": [
    {
     "name": "stderr",
     "output_type": "stream",
     "text": [
      "[Parallel(n_jobs=7)]: Using backend ThreadingBackend with 7 concurrent workers.\n"
     ]
    },
    {
     "name": "stdout",
     "output_type": "stream",
     "text": [
      "convergence after 21 epochs took 47 seconds\n"
     ]
    },
    {
     "name": "stderr",
     "output_type": "stream",
     "text": [
      "[Parallel(n_jobs=7)]: Done   1 out of   1 | elapsed:   46.5s finished\n"
     ]
    },
    {
     "data": {
      "text/plain": [
       "LogisticRegression(C=1.0, class_weight=None, dual=False, fit_intercept=True,\n",
       "          intercept_scaling=1, max_iter=100, multi_class='warn', n_jobs=7,\n",
       "          penalty='l2', random_state=None, solver='sag', tol=0.0001,\n",
       "          verbose=1, warm_start=False)"
      ]
     },
     "execution_count": 35,
     "metadata": {},
     "output_type": "execute_result"
    }
   ],
   "source": [
    "model_12_3 = LogisticRegression(verbose=1,n_jobs=7,solver='sag')\n",
    "model_12_3.fit(X_train_counts_12_3,Y_train_12_3)"
   ]
  },
  {
   "cell_type": "code",
   "execution_count": 36,
   "metadata": {
    "ExecuteTime": {
     "end_time": "2019-02-18T12:39:33.598855Z",
     "start_time": "2019-02-18T12:39:03.978419Z"
    }
   },
   "outputs": [
    {
     "name": "stderr",
     "output_type": "stream",
     "text": [
      "[Parallel(n_jobs=7)]: Using backend ThreadingBackend with 7 concurrent workers.\n"
     ]
    },
    {
     "name": "stdout",
     "output_type": "stream",
     "text": [
      "convergence after 19 epochs took 29 seconds\n"
     ]
    },
    {
     "name": "stderr",
     "output_type": "stream",
     "text": [
      "[Parallel(n_jobs=7)]: Done   1 out of   1 | elapsed:   29.4s finished\n"
     ]
    },
    {
     "data": {
      "text/plain": [
       "LogisticRegression(C=1.0, class_weight=None, dual=False, fit_intercept=True,\n",
       "          intercept_scaling=1, max_iter=100, multi_class='warn', n_jobs=7,\n",
       "          penalty='l2', random_state=None, solver='sag', tol=0.0001,\n",
       "          verbose=1, warm_start=False)"
      ]
     },
     "execution_count": 36,
     "metadata": {},
     "output_type": "execute_result"
    }
   ],
   "source": [
    "model_1_2 = LogisticRegression(verbose=1,n_jobs=7,solver='sag')\n",
    "model_1_2.fit(X_train_counts_1_2,Y_train_1_2)"
   ]
  },
  {
   "cell_type": "code",
   "execution_count": 37,
   "metadata": {
    "ExecuteTime": {
     "end_time": "2019-02-18T12:39:56.091819Z",
     "start_time": "2019-02-18T12:39:52.975925Z"
    }
   },
   "outputs": [
    {
     "data": {
      "application/vnd.jupyter.widget-view+json": {
       "model_id": "b7fe3f85bb0c45cfab783a801fc9407b",
       "version_major": 2,
       "version_minor": 0
      },
      "text/plain": [
       "HBox(children=(IntProgress(value=0, max=200000), HTML(value='')))"
      ]
     },
     "metadata": {},
     "output_type": "display_data"
    },
    {
     "name": "stdout",
     "output_type": "stream",
     "text": [
      "\n",
      "MSE =  0.3735370102976789  F1 =  0.6765698351917488  Accuracy =  0.666125\n"
     ]
    },
    {
     "data": {
      "image/png": "[encoded data removed]",
      "text/plain": [
       "<Figure size 288x288 with 2 Axes>"
      ]
     },
     "metadata": {
      "needs_background": "light"
     },
     "output_type": "display_data"
    }
   ],
   "source": [
    "pred_123_45 = model_123_45.predict_proba(X_dev_counts)\n",
    "pred_12_3 = model_12_3.predict_proba(X_dev_counts)\n",
    "pred_1_2 = model_1_2.predict_proba(X_dev_counts)\n",
    "pred_4_5 = model_4_5.predict_proba(X_dev_counts)\n",
    "\n",
    "pred = []\n",
    "\n",
    "for i in tqdm(range(len(pred_neutral))):\n",
    "    pred.append(pred_123_45[i][0]*pred_12_3[i][0]*pred_1_2[i][0]*1.0+\n",
    "                pred_123_45[i][0]*pred_12_3[i][0]*pred_1_2[i][1]*2.0+\n",
    "                pred_123_45[i][0]*pred_12_3[i][1]*3.0+\n",
    "                pred_123_45[i][1]*pred_4_5[i][0]*4.0+\n",
    "                pred_123_45[i][1]*pred_4_5[i][1]*5.0)\n",
    "get_metrics_from_pred(pred,Y_dev)"
   ]
  },
  {
   "cell_type": "markdown",
   "metadata": {},
   "source": [
    "# Another Try (Full tree leaning towards 5)"
   ]
  },
  {
   "cell_type": "code",
   "execution_count": 10,
   "metadata": {
    "ExecuteTime": {
     "end_time": "2019-02-18T12:58:39.670223Z",
     "start_time": "2019-02-18T12:58:30.078622Z"
    }
   },
   "outputs": [],
   "source": [
    "indices = np.where(list(map(lambda x: x>=3,Y_train)))[0]\n",
    "X_train_counts_3_45 = X_train_counts[indices]\n",
    "Y_train_3_45 = [0 if Y_train[j]==3 else 1 for j in indices]\n",
    "\n",
    "indices = np.where(list(map(lambda x:x>3,Y_train)))[0]\n",
    "X_train_counts_4_5 = X_train_counts[indices]\n",
    "Y_train_4_5 = [Y_train[j] for j in indices]\n",
    "\n",
    "indices = np.where(list(map(lambda x:x<3,Y_train)))[0]\n",
    "X_train_counts_1_2 = X_train_counts[indices]\n",
    "Y_train_1_2 = [Y_train[j] for j in indices]"
   ]
  },
  {
   "cell_type": "code",
   "execution_count": 18,
   "metadata": {
    "ExecuteTime": {
     "end_time": "2019-02-18T13:00:32.387968Z",
     "start_time": "2019-02-18T13:00:32.385915Z"
    }
   },
   "outputs": [],
   "source": [
    "# print(X_train_counts[0])\n",
    "# print('hey')\n",
    "# print(X_train_counts_1_2[0])"
   ]
  },
  {
   "cell_type": "code",
   "execution_count": 19,
   "metadata": {
    "ExecuteTime": {
     "end_time": "2019-02-18T13:00:33.304013Z",
     "start_time": "2019-02-18T13:00:33.150017Z"
    }
   },
   "outputs": [],
   "source": [
    "def modif(x):\n",
    "    if (x>=3):\n",
    "        return 1\n",
    "    else:\n",
    "        return 0\n",
    "\n",
    "Y_modified = list(map(lambda x: modif(x),Y_train))"
   ]
  },
  {
   "cell_type": "code",
   "execution_count": 20,
   "metadata": {
    "ExecuteTime": {
     "end_time": "2019-02-18T13:02:10.497830Z",
     "start_time": "2019-02-18T13:00:34.607098Z"
    }
   },
   "outputs": [
    {
     "name": "stderr",
     "output_type": "stream",
     "text": [
      "[Parallel(n_jobs=7)]: Using backend ThreadingBackend with 7 concurrent workers.\n"
     ]
    },
    {
     "name": "stdout",
     "output_type": "stream",
     "text": [
      "convergence after 18 epochs took 95 seconds\n"
     ]
    },
    {
     "name": "stderr",
     "output_type": "stream",
     "text": [
      "[Parallel(n_jobs=7)]: Done   1 out of   1 | elapsed:  1.6min finished\n"
     ]
    },
    {
     "data": {
      "text/plain": [
       "LogisticRegression(C=1.0, class_weight=None, dual=False, fit_intercept=True,\n",
       "          intercept_scaling=1, max_iter=100, multi_class='warn', n_jobs=7,\n",
       "          penalty='l2', random_state=None, solver='sag', tol=0.0001,\n",
       "          verbose=1, warm_start=False)"
      ]
     },
     "execution_count": 20,
     "metadata": {},
     "output_type": "execute_result"
    }
   ],
   "source": [
    "model_12_345 = LogisticRegression(verbose=1,n_jobs=7,solver='sag')\n",
    "model_12_345.fit(X_train_counts,Y_modified)"
   ]
  },
  {
   "cell_type": "code",
   "execution_count": 21,
   "metadata": {
    "ExecuteTime": {
     "end_time": "2019-02-18T13:03:21.287965Z",
     "start_time": "2019-02-18T13:02:13.335946Z"
    }
   },
   "outputs": [
    {
     "name": "stderr",
     "output_type": "stream",
     "text": [
      "[Parallel(n_jobs=7)]: Using backend ThreadingBackend with 7 concurrent workers.\n"
     ]
    },
    {
     "name": "stdout",
     "output_type": "stream",
     "text": [
      "convergence after 22 epochs took 68 seconds\n"
     ]
    },
    {
     "name": "stderr",
     "output_type": "stream",
     "text": [
      "[Parallel(n_jobs=7)]: Done   1 out of   1 | elapsed:  1.1min finished\n"
     ]
    },
    {
     "data": {
      "text/plain": [
       "LogisticRegression(C=1.0, class_weight=None, dual=False, fit_intercept=True,\n",
       "          intercept_scaling=1, max_iter=100, multi_class='warn', n_jobs=7,\n",
       "          penalty='l2', random_state=None, solver='sag', tol=0.0001,\n",
       "          verbose=1, warm_start=False)"
      ]
     },
     "execution_count": 21,
     "metadata": {},
     "output_type": "execute_result"
    }
   ],
   "source": [
    "model_4_5 = LogisticRegression(verbose=1,n_jobs=7,solver='sag')\n",
    "model_4_5.fit(X_train_counts_4_5,Y_train_4_5)"
   ]
  },
  {
   "cell_type": "code",
   "execution_count": 22,
   "metadata": {
    "ExecuteTime": {
     "end_time": "2019-02-18T13:05:06.660961Z",
     "start_time": "2019-02-18T13:03:56.494102Z"
    }
   },
   "outputs": [
    {
     "name": "stderr",
     "output_type": "stream",
     "text": [
      "[Parallel(n_jobs=7)]: Using backend ThreadingBackend with 7 concurrent workers.\n"
     ]
    },
    {
     "name": "stdout",
     "output_type": "stream",
     "text": [
      "convergence after 18 epochs took 70 seconds\n"
     ]
    },
    {
     "name": "stderr",
     "output_type": "stream",
     "text": [
      "[Parallel(n_jobs=7)]: Done   1 out of   1 | elapsed:  1.2min finished\n"
     ]
    },
    {
     "data": {
      "text/plain": [
       "LogisticRegression(C=1.0, class_weight=None, dual=False, fit_intercept=True,\n",
       "          intercept_scaling=1, max_iter=100, multi_class='warn', n_jobs=7,\n",
       "          penalty='l2', random_state=None, solver='sag', tol=0.0001,\n",
       "          verbose=1, warm_start=False)"
      ]
     },
     "execution_count": 22,
     "metadata": {},
     "output_type": "execute_result"
    }
   ],
   "source": [
    "model_3_45 = LogisticRegression(verbose=1,n_jobs=7,solver='sag')\n",
    "model_3_45.fit(X_train_counts_3_45,Y_train_3_45)"
   ]
  },
  {
   "cell_type": "code",
   "execution_count": 23,
   "metadata": {
    "ExecuteTime": {
     "end_time": "2019-02-18T13:05:41.447367Z",
     "start_time": "2019-02-18T13:05:10.925833Z"
    }
   },
   "outputs": [
    {
     "name": "stderr",
     "output_type": "stream",
     "text": [
      "[Parallel(n_jobs=7)]: Using backend ThreadingBackend with 7 concurrent workers.\n"
     ]
    },
    {
     "name": "stdout",
     "output_type": "stream",
     "text": [
      "convergence after 20 epochs took 30 seconds\n"
     ]
    },
    {
     "name": "stderr",
     "output_type": "stream",
     "text": [
      "[Parallel(n_jobs=7)]: Done   1 out of   1 | elapsed:   30.3s finished\n"
     ]
    },
    {
     "data": {
      "text/plain": [
       "LogisticRegression(C=1.0, class_weight=None, dual=False, fit_intercept=True,\n",
       "          intercept_scaling=1, max_iter=100, multi_class='warn', n_jobs=7,\n",
       "          penalty='l2', random_state=None, solver='sag', tol=0.0001,\n",
       "          verbose=1, warm_start=False)"
      ]
     },
     "execution_count": 23,
     "metadata": {},
     "output_type": "execute_result"
    }
   ],
   "source": [
    "model_1_2 = LogisticRegression(verbose=1,n_jobs=7,solver='sag')\n",
    "model_1_2.fit(X_train_counts_1_2,Y_train_1_2)"
   ]
  },
  {
   "cell_type": "code",
   "execution_count": 25,
   "metadata": {
    "ExecuteTime": {
     "end_time": "2019-02-18T13:06:00.278410Z",
     "start_time": "2019-02-18T13:05:57.175114Z"
    }
   },
   "outputs": [
    {
     "data": {
      "application/vnd.jupyter.widget-view+json": {
       "model_id": "acbb41bcab8e48e68c902982f978ea89",
       "version_major": 2,
       "version_minor": 0
      },
      "text/plain": [
       "HBox(children=(IntProgress(value=0, max=200000), HTML(value='')))"
      ]
     },
     "metadata": {},
     "output_type": "display_data"
    },
    {
     "name": "stdout",
     "output_type": "stream",
     "text": [
      "\n",
      "MSE =  0.376282766283543  F1 =  0.6767494927435395  Accuracy =  0.66589\n"
     ]
    },
    {
     "data": {
      "image/png": "[encoded data removed]",
      "text/plain": [
       "<Figure size 288x288 with 2 Axes>"
      ]
     },
     "metadata": {
      "needs_background": "light"
     },
     "output_type": "display_data"
    }
   ],
   "source": [
    "pred_12_345 = model_12_345.predict_proba(X_dev_counts)\n",
    "pred_3_45 = model_3_45.predict_proba(X_dev_counts)\n",
    "pred_1_2 = model_1_2.predict_proba(X_dev_counts)\n",
    "pred_4_5 = model_4_5.predict_proba(X_dev_counts)\n",
    "\n",
    "pred = []\n",
    "\n",
    "for i in tqdm(range(len(pred_12_345))):\n",
    "    pred.append(pred_12_345[i][1]*pred_3_45[i][1]*pred_4_5[i][1]*5.0+\n",
    "                pred_12_345[i][1]*pred_3_45[i][1]*pred_4_5[i][0]*4.0+\n",
    "                pred_12_345[i][1]*pred_3_45[i][0]*3.0+\n",
    "                pred_12_345[i][0]*pred_1_2[i][1]*2.0+\n",
    "                pred_12_345[i][0]*pred_1_2[i][0]*1.0)\n",
    "get_metrics_from_pred(pred,Y_dev)"
   ]
  },
  {
   "cell_type": "markdown",
   "metadata": {},
   "source": [
    "# Another Try"
   ]
  },
  {
   "cell_type": "code",
   "execution_count": 26,
   "metadata": {
    "ExecuteTime": {
     "end_time": "2019-02-18T13:07:12.547359Z",
     "start_time": "2019-02-18T13:07:00.187100Z"
    }
   },
   "outputs": [],
   "source": [
    "indices = np.where(list(map(lambda x: x>=3,Y_train)))[0]\n",
    "X_train_counts_3_45 = X_train_counts[indices]\n",
    "Y_train_3_45 = [0 if Y_train[j]==3 else 1 for j in indices]\n",
    "\n",
    "indices = np.where(list(map(lambda x:x>3,Y_train)))[0]\n",
    "X_train_counts_4_5 = X_train_counts[indices]\n",
    "Y_train_4_5 = [Y_train[j] for j in indices]\n",
    "\n",
    "indices = np.where(list(map(lambda x:x>1,Y_train)))[0]\n",
    "X_train_counts_2_345 = X_train_counts[indices]\n",
    "Y_train_2_345 = [ 0 if Y_train[j]== 2 else 1 for j in indices]"
   ]
  },
  {
   "cell_type": "code",
   "execution_count": 27,
   "metadata": {
    "ExecuteTime": {
     "end_time": "2019-02-18T13:07:14.913515Z",
     "start_time": "2019-02-18T13:07:14.755660Z"
    }
   },
   "outputs": [],
   "source": [
    "def modif(x):\n",
    "    if (x>1):\n",
    "        return 1\n",
    "    else:\n",
    "        return 0\n",
    "\n",
    "Y_modified = list(map(lambda x: modif(x),Y_train))"
   ]
  },
  {
   "cell_type": "code",
   "execution_count": 28,
   "metadata": {
    "ExecuteTime": {
     "end_time": "2019-02-18T13:09:13.949078Z",
     "start_time": "2019-02-18T13:07:27.880550Z"
    }
   },
   "outputs": [
    {
     "name": "stderr",
     "output_type": "stream",
     "text": [
      "[Parallel(n_jobs=7)]: Using backend ThreadingBackend with 7 concurrent workers.\n"
     ]
    },
    {
     "name": "stdout",
     "output_type": "stream",
     "text": [
      "convergence after 19 epochs took 105 seconds\n"
     ]
    },
    {
     "name": "stderr",
     "output_type": "stream",
     "text": [
      "[Parallel(n_jobs=7)]: Done   1 out of   1 | elapsed:  1.8min finished\n"
     ]
    },
    {
     "data": {
      "text/plain": [
       "LogisticRegression(C=1.0, class_weight=None, dual=False, fit_intercept=True,\n",
       "          intercept_scaling=1, max_iter=100, multi_class='warn', n_jobs=7,\n",
       "          penalty='l2', random_state=None, solver='sag', tol=0.0001,\n",
       "          verbose=1, warm_start=False)"
      ]
     },
     "execution_count": 28,
     "metadata": {},
     "output_type": "execute_result"
    }
   ],
   "source": [
    "model_1_2345 = LogisticRegression(verbose=1,n_jobs=7,solver='sag')\n",
    "model_1_2345.fit(X_train_counts,Y_modified)"
   ]
  },
  {
   "cell_type": "code",
   "execution_count": 29,
   "metadata": {
    "ExecuteTime": {
     "end_time": "2019-02-18T13:12:10.149053Z",
     "start_time": "2019-02-18T13:10:46.219346Z"
    }
   },
   "outputs": [
    {
     "name": "stderr",
     "output_type": "stream",
     "text": [
      "[Parallel(n_jobs=7)]: Using backend ThreadingBackend with 7 concurrent workers.\n"
     ]
    },
    {
     "name": "stdout",
     "output_type": "stream",
     "text": [
      "convergence after 18 epochs took 83 seconds\n"
     ]
    },
    {
     "name": "stderr",
     "output_type": "stream",
     "text": [
      "[Parallel(n_jobs=7)]: Done   1 out of   1 | elapsed:  1.4min finished\n"
     ]
    },
    {
     "data": {
      "text/plain": [
       "LogisticRegression(C=1.0, class_weight=None, dual=False, fit_intercept=True,\n",
       "          intercept_scaling=1, max_iter=100, multi_class='warn', n_jobs=7,\n",
       "          penalty='l2', random_state=None, solver='sag', tol=0.0001,\n",
       "          verbose=1, warm_start=False)"
      ]
     },
     "execution_count": 29,
     "metadata": {},
     "output_type": "execute_result"
    }
   ],
   "source": [
    "model_2_345 = LogisticRegression(verbose=1,n_jobs=7,solver='sag')\n",
    "model_2_345.fit(X_train_counts_2_345,Y_train_2_345)"
   ]
  },
  {
   "cell_type": "code",
   "execution_count": 30,
   "metadata": {
    "ExecuteTime": {
     "end_time": "2019-02-18T13:14:53.800140Z",
     "start_time": "2019-02-18T13:13:34.518523Z"
    }
   },
   "outputs": [
    {
     "name": "stderr",
     "output_type": "stream",
     "text": [
      "[Parallel(n_jobs=7)]: Using backend ThreadingBackend with 7 concurrent workers.\n"
     ]
    },
    {
     "name": "stdout",
     "output_type": "stream",
     "text": [
      "convergence after 20 epochs took 79 seconds\n"
     ]
    },
    {
     "name": "stderr",
     "output_type": "stream",
     "text": [
      "[Parallel(n_jobs=7)]: Done   1 out of   1 | elapsed:  1.3min finished\n"
     ]
    },
    {
     "data": {
      "text/plain": [
       "LogisticRegression(C=1.0, class_weight=None, dual=False, fit_intercept=True,\n",
       "          intercept_scaling=1, max_iter=100, multi_class='warn', n_jobs=7,\n",
       "          penalty='l2', random_state=None, solver='sag', tol=0.0001,\n",
       "          verbose=1, warm_start=False)"
      ]
     },
     "execution_count": 30,
     "metadata": {},
     "output_type": "execute_result"
    }
   ],
   "source": [
    "model_3_45 = LogisticRegression(verbose=1,n_jobs=7,solver='sag')\n",
    "model_3_45.fit(X_train_counts_3_45,Y_train_3_45)"
   ]
  },
  {
   "cell_type": "code",
   "execution_count": 31,
   "metadata": {
    "ExecuteTime": {
     "end_time": "2019-02-18T13:16:34.811568Z",
     "start_time": "2019-02-18T13:15:22.950535Z"
    }
   },
   "outputs": [
    {
     "name": "stderr",
     "output_type": "stream",
     "text": [
      "[Parallel(n_jobs=7)]: Using backend ThreadingBackend with 7 concurrent workers.\n"
     ]
    },
    {
     "name": "stdout",
     "output_type": "stream",
     "text": [
      "convergence after 22 epochs took 71 seconds\n"
     ]
    },
    {
     "name": "stderr",
     "output_type": "stream",
     "text": [
      "[Parallel(n_jobs=7)]: Done   1 out of   1 | elapsed:  1.2min finished\n"
     ]
    },
    {
     "data": {
      "text/plain": [
       "LogisticRegression(C=1.0, class_weight=None, dual=False, fit_intercept=True,\n",
       "          intercept_scaling=1, max_iter=100, multi_class='warn', n_jobs=7,\n",
       "          penalty='l2', random_state=None, solver='sag', tol=0.0001,\n",
       "          verbose=1, warm_start=False)"
      ]
     },
     "execution_count": 31,
     "metadata": {},
     "output_type": "execute_result"
    }
   ],
   "source": [
    "model_4_5 = LogisticRegression(verbose=1,n_jobs=7,solver='sag')\n",
    "model_4_5.fit(X_train_counts_4_5,Y_train_4_5)"
   ]
  },
  {
   "cell_type": "code",
   "execution_count": null,
   "metadata": {
    "ExecuteTime": {
     "end_time": "2019-02-18T13:17:20.748874Z",
     "start_time": "2019-02-18T13:17:07.737016Z"
    }
   },
   "outputs": [],
   "source": []
  },
  {
   "cell_type": "code",
   "execution_count": 35,
   "metadata": {
    "ExecuteTime": {
     "end_time": "2019-02-18T13:18:14.624714Z",
     "start_time": "2019-02-18T13:18:11.436348Z"
    }
   },
   "outputs": [
    {
     "data": {
      "application/vnd.jupyter.widget-view+json": {
       "model_id": "e2dd593dba2d464dbcf41007e9a9c0ed",
       "version_major": 2,
       "version_minor": 0
      },
      "text/plain": [
       "HBox(children=(IntProgress(value=0, max=200000), HTML(value='')))"
      ]
     },
     "metadata": {},
     "output_type": "display_data"
    },
    {
     "name": "stdout",
     "output_type": "stream",
     "text": [
      "\n",
      "MSE =  0.3881355813542006  F1 =  0.6703307612500955  Accuracy =  0.658235\n"
     ]
    },
    {
     "data": {
      "image/png": "[encoded data removed]",
      "text/plain": [
       "<Figure size 288x288 with 2 Axes>"
      ]
     },
     "metadata": {
      "needs_background": "light"
     },
     "output_type": "display_data"
    }
   ],
   "source": [
    "pred_1_2345 = model_1_2345.predict_proba(X_dev_counts)\n",
    "pred_2_345 = model_2_345.predict_proba(X_dev_counts)\n",
    "pred_3_45 = model_3_45.predict_proba(X_dev_counts)\n",
    "pred_4_5 = model_4_5.predict_proba(X_dev_counts)\n",
    "\n",
    "pred = []\n",
    "\n",
    "for i in tqdm(range(len(pred_1_2345))):\n",
    "    pred.append(pred_1_2345[i][0]*1.0+\n",
    "                pred_1_2345[i][1]*pred_2_345[i][0]*2.0+\n",
    "                pred_1_2345[i][1]*pred_2_345[i][1]*pred_3_45[i][0]*3.0+\n",
    "                pred_1_2345[i][1]*pred_2_345[i][1]*pred_3_45[i][1]*pred_4_5[i][0]*4.0+\n",
    "                pred_1_2345[i][1]*pred_2_345[i][1]*pred_3_45[i][1]*pred_4_5[i][1]*5.0)\n",
    "get_metrics_from_pred(pred,Y_dev)"
   ]
  },
  {
   "cell_type": "markdown",
   "metadata": {},
   "source": [
    "# Another Try"
   ]
  },
  {
   "cell_type": "code",
   "execution_count": 36,
   "metadata": {
    "ExecuteTime": {
     "end_time": "2019-02-18T13:19:03.012194Z",
     "start_time": "2019-02-18T13:18:53.770402Z"
    }
   },
   "outputs": [],
   "source": [
    "indices = np.where(list(map(lambda x: x<=3,Y_train)))[0]\n",
    "X_train_counts_12_3 = X_train_counts[indices]\n",
    "Y_train_12_3 = [1 if Y_train[j]==3 else 0 for j in indices]\n",
    "\n",
    "indices = np.where(list(map(lambda x:x<3,Y_train)))[0]\n",
    "X_train_counts_1_2 = X_train_counts[indices]\n",
    "Y_train_1_2 = [Y_train[j] for j in indices]\n",
    "\n",
    "indices = np.where(list(map(lambda x:x>1,Y_train)))[0]\n",
    "X_train_counts_123_4 = X_train_counts[indices]\n",
    "Y_train_123_4 = [ 1 if Y_train[j]== 4 else 0 for j in indices]"
   ]
  },
  {
   "cell_type": "code",
   "execution_count": 37,
   "metadata": {
    "ExecuteTime": {
     "end_time": "2019-02-18T13:19:10.234421Z",
     "start_time": "2019-02-18T13:19:10.030979Z"
    }
   },
   "outputs": [],
   "source": [
    "def modif(x):\n",
    "    if (x>4):\n",
    "        return 1\n",
    "    else:\n",
    "        return 0\n",
    "\n",
    "Y_modified = list(map(lambda x: modif(x),Y_train))"
   ]
  },
  {
   "cell_type": "code",
   "execution_count": 38,
   "metadata": {
    "ExecuteTime": {
     "end_time": "2019-02-18T13:21:02.991200Z",
     "start_time": "2019-02-18T13:19:10.989539Z"
    }
   },
   "outputs": [
    {
     "name": "stderr",
     "output_type": "stream",
     "text": [
      "[Parallel(n_jobs=7)]: Using backend ThreadingBackend with 7 concurrent workers.\n"
     ]
    },
    {
     "name": "stdout",
     "output_type": "stream",
     "text": [
      "convergence after 21 epochs took 111 seconds\n"
     ]
    },
    {
     "name": "stderr",
     "output_type": "stream",
     "text": [
      "[Parallel(n_jobs=7)]: Done   1 out of   1 | elapsed:  1.9min finished\n"
     ]
    },
    {
     "data": {
      "text/plain": [
       "LogisticRegression(C=1.0, class_weight=None, dual=False, fit_intercept=True,\n",
       "          intercept_scaling=1, max_iter=100, multi_class='warn', n_jobs=7,\n",
       "          penalty='l2', random_state=None, solver='sag', tol=0.0001,\n",
       "          verbose=1, warm_start=False)"
      ]
     },
     "execution_count": 38,
     "metadata": {},
     "output_type": "execute_result"
    }
   ],
   "source": [
    "model_1234_5 = LogisticRegression(verbose=1,n_jobs=7,solver='sag')\n",
    "model_1234_5.fit(X_train_counts,Y_modified)"
   ]
  },
  {
   "cell_type": "code",
   "execution_count": 39,
   "metadata": {
    "ExecuteTime": {
     "end_time": "2019-02-18T13:23:01.433994Z",
     "start_time": "2019-02-18T13:21:34.760148Z"
    }
   },
   "outputs": [
    {
     "name": "stderr",
     "output_type": "stream",
     "text": [
      "[Parallel(n_jobs=7)]: Using backend ThreadingBackend with 7 concurrent workers.\n"
     ]
    },
    {
     "name": "stdout",
     "output_type": "stream",
     "text": [
      "convergence after 20 epochs took 86 seconds\n"
     ]
    },
    {
     "name": "stderr",
     "output_type": "stream",
     "text": [
      "[Parallel(n_jobs=7)]: Done   1 out of   1 | elapsed:  1.4min finished\n"
     ]
    },
    {
     "data": {
      "text/plain": [
       "LogisticRegression(C=1.0, class_weight=None, dual=False, fit_intercept=True,\n",
       "          intercept_scaling=1, max_iter=100, multi_class='warn', n_jobs=7,\n",
       "          penalty='l2', random_state=None, solver='sag', tol=0.0001,\n",
       "          verbose=1, warm_start=False)"
      ]
     },
     "execution_count": 39,
     "metadata": {},
     "output_type": "execute_result"
    }
   ],
   "source": [
    "model_123_4 = LogisticRegression(verbose=1,n_jobs=7,solver='sag')\n",
    "model_123_4.fit(X_train_counts_123_4,Y_train_123_4)"
   ]
  },
  {
   "cell_type": "code",
   "execution_count": 40,
   "metadata": {
    "ExecuteTime": {
     "end_time": "2019-02-18T13:23:42.883141Z",
     "start_time": "2019-02-18T13:23:04.055878Z"
    }
   },
   "outputs": [
    {
     "name": "stderr",
     "output_type": "stream",
     "text": [
      "[Parallel(n_jobs=7)]: Using backend ThreadingBackend with 7 concurrent workers.\n"
     ]
    },
    {
     "name": "stdout",
     "output_type": "stream",
     "text": [
      "convergence after 18 epochs took 38 seconds\n"
     ]
    },
    {
     "name": "stderr",
     "output_type": "stream",
     "text": [
      "[Parallel(n_jobs=7)]: Done   1 out of   1 | elapsed:   38.6s finished\n"
     ]
    },
    {
     "data": {
      "text/plain": [
       "LogisticRegression(C=1.0, class_weight=None, dual=False, fit_intercept=True,\n",
       "          intercept_scaling=1, max_iter=100, multi_class='warn', n_jobs=7,\n",
       "          penalty='l2', random_state=None, solver='sag', tol=0.0001,\n",
       "          verbose=1, warm_start=False)"
      ]
     },
     "execution_count": 40,
     "metadata": {},
     "output_type": "execute_result"
    }
   ],
   "source": [
    "model_12_3 = LogisticRegression(verbose=1,n_jobs=7,solver='sag')\n",
    "model_12_3.fit(X_train_counts_12_3,Y_train_12_3)"
   ]
  },
  {
   "cell_type": "code",
   "execution_count": 41,
   "metadata": {
    "ExecuteTime": {
     "end_time": "2019-02-18T13:25:30.572415Z",
     "start_time": "2019-02-18T13:25:02.446800Z"
    }
   },
   "outputs": [
    {
     "name": "stderr",
     "output_type": "stream",
     "text": [
      "[Parallel(n_jobs=7)]: Using backend ThreadingBackend with 7 concurrent workers.\n"
     ]
    },
    {
     "name": "stdout",
     "output_type": "stream",
     "text": [
      "convergence after 19 epochs took 28 seconds\n"
     ]
    },
    {
     "name": "stderr",
     "output_type": "stream",
     "text": [
      "[Parallel(n_jobs=7)]: Done   1 out of   1 | elapsed:   27.9s finished\n"
     ]
    },
    {
     "data": {
      "text/plain": [
       "LogisticRegression(C=1.0, class_weight=None, dual=False, fit_intercept=True,\n",
       "          intercept_scaling=1, max_iter=100, multi_class='warn', n_jobs=7,\n",
       "          penalty='l2', random_state=None, solver='sag', tol=0.0001,\n",
       "          verbose=1, warm_start=False)"
      ]
     },
     "execution_count": 41,
     "metadata": {},
     "output_type": "execute_result"
    }
   ],
   "source": [
    "model_1_2 = LogisticRegression(verbose=1,n_jobs=7,solver='sag')\n",
    "model_1_2.fit(X_train_counts_1_2,Y_train_1_2)"
   ]
  },
  {
   "cell_type": "code",
   "execution_count": 42,
   "metadata": {
    "ExecuteTime": {
     "end_time": "2019-02-18T13:25:39.099720Z",
     "start_time": "2019-02-18T13:25:35.720103Z"
    }
   },
   "outputs": [
    {
     "data": {
      "application/vnd.jupyter.widget-view+json": {
       "model_id": "7a9a3e00181943a88b375a0e2fcbc355",
       "version_major": 2,
       "version_minor": 0
      },
      "text/plain": [
       "HBox(children=(IntProgress(value=0, max=200000), HTML(value='')))"
      ]
     },
     "metadata": {},
     "output_type": "display_data"
    },
    {
     "name": "stdout",
     "output_type": "stream",
     "text": [
      "\n",
      "MSE =  0.45070899831864975  F1 =  0.6184001672270858  Accuracy =  0.5997\n"
     ]
    },
    {
     "data": {
      "image/png": "[encoded data removed]",
      "text/plain": [
       "<Figure size 288x288 with 2 Axes>"
      ]
     },
     "metadata": {
      "needs_background": "light"
     },
     "output_type": "display_data"
    }
   ],
   "source": [
    "pred_1234_5 = model_1234_5.predict_proba(X_dev_counts)\n",
    "pred_123_4 = model_123_4.predict_proba(X_dev_counts)\n",
    "pred_12_3 = model_12_3.predict_proba(X_dev_counts)\n",
    "pred_1_2 = model_1_2.predict_proba(X_dev_counts)\n",
    "\n",
    "pred = []\n",
    "\n",
    "for i in tqdm(range(len(pred_1234_5))):\n",
    "    pred.append(pred_1234_5[i][1]*5.0+\n",
    "                pred_1234_5[i][0]*pred_123_4[i][1]*4.0+\n",
    "                pred_1234_5[i][0]*pred_123_4[i][0]*pred_12_3[i][1]*3.0+\n",
    "                pred_1234_5[i][0]*pred_123_4[i][0]*pred_12_3[i][0]*pred_1_2[i][1]*2.0+\n",
    "                pred_1234_5[i][0]*pred_123_4[i][0]*pred_12_3[i][0]*pred_1_2[i][0]*1.0)\n",
    "get_metrics_from_pred(pred,Y_dev)"
   ]
  },
  {
   "cell_type": "code",
   "execution_count": null,
   "metadata": {},
   "outputs": [],
   "source": []
  }
 ],
 "metadata": {
  "kernelspec": {
   "display_name": "Python 3",
   "language": "python",
   "name": "python3"
  },
  "language_info": {
   "codemirror_mode": {
    "name": "ipython",
    "version": 3
   },
   "file_extension": ".py",
   "mimetype": "text/x-python",
   "name": "python",
   "nbconvert_exporter": "python",
   "pygments_lexer": "ipython3",
   "version": "3.6.7"
  }
 },
 "nbformat": 4,
 "nbformat_minor": 2
}
