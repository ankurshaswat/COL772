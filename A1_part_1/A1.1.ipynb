{
 "cells": [
  {
   "cell_type": "markdown",
   "metadata": {},
   "source": [
    "# Sentiment Mining"
   ]
  },
  {
   "cell_type": "markdown",
   "metadata": {},
   "source": [
    "## Import Required Packages"
   ]
  },
  {
   "cell_type": "code",
   "execution_count": 1,
   "metadata": {
    "ExecuteTime": {
     "end_time": "2019-01-28T11:09:54.039728Z",
     "start_time": "2019-01-28T11:09:53.771394Z"
    },
    "scrolled": true
   },
   "outputs": [],
   "source": [
    "import json\n",
    "import matplotlib.pyplot as plt \n",
    "import string\n",
    "\n",
    "from tqdm import tqdm_notebook as tqdm\n",
    "from nltk import wordpunct_tokenize\n"
   ]
  },
  {
   "cell_type": "code",
   "execution_count": 2,
   "metadata": {
    "ExecuteTime": {
     "end_time": "2019-01-28T11:09:55.780899Z",
     "start_time": "2019-01-28T11:09:55.778664Z"
    },
    "scrolled": true
   },
   "outputs": [],
   "source": [
    "translator = str.maketrans(string.punctuation, ' '*len(string.punctuation)) #map punctuation to space"
   ]
  },
  {
   "cell_type": "markdown",
   "metadata": {},
   "source": [
    "To download nltk corpora (This can take around 15 minutes)."
   ]
  },
  {
   "cell_type": "code",
   "execution_count": 3,
   "metadata": {
    "ExecuteTime": {
     "end_time": "2019-01-28T11:09:57.874239Z",
     "start_time": "2019-01-28T11:09:57.870597Z"
    },
    "scrolled": true
   },
   "outputs": [],
   "source": [
    "# import nltk\n",
    "# nltk.download()"
   ]
  },
  {
   "cell_type": "markdown",
   "metadata": {},
   "source": [
    "## Constants for testing mode"
   ]
  },
  {
   "cell_type": "code",
   "execution_count": 4,
   "metadata": {
    "ExecuteTime": {
     "end_time": "2019-01-28T11:09:59.553482Z",
     "start_time": "2019-01-28T11:09:59.551710Z"
    },
    "scrolled": true
   },
   "outputs": [],
   "source": [
    "train_path = 'data/train.json'\n",
    "dev_path = 'data/dev.json'"
   ]
  },
  {
   "cell_type": "markdown",
   "metadata": {},
   "source": [
    "## Read File Function"
   ]
  },
  {
   "cell_type": "code",
   "execution_count": 5,
   "metadata": {
    "ExecuteTime": {
     "end_time": "2019-01-28T11:10:03.517742Z",
     "start_time": "2019-01-28T11:10:03.512018Z"
    },
    "scrolled": true
   },
   "outputs": [],
   "source": [
    "def read_file(path):\n",
    "    data = []\n",
    "    with open(path, 'r') as data_file:\n",
    "        line = data_file.readline()\n",
    "        while line:\n",
    "            data.append(json.loads(line))\n",
    "            line = data_file.readline()\n",
    "    return data"
   ]
  },
  {
   "cell_type": "markdown",
   "metadata": {},
   "source": [
    "## Import Dataset"
   ]
  },
  {
   "cell_type": "code",
   "execution_count": 6,
   "metadata": {
    "ExecuteTime": {
     "end_time": "2019-01-28T11:10:04.637307Z",
     "start_time": "2019-01-28T11:10:04.632174Z"
    },
    "scrolled": true
   },
   "outputs": [],
   "source": [
    "def load_data(train_data_path,dev_data_path):\n",
    "    train_set = read_file(train_data_path)\n",
    "    dev_set = read_file(dev_data_path)\n",
    "    return train_set,dev_set"
   ]
  },
  {
   "cell_type": "markdown",
   "metadata": {},
   "source": [
    "The load step should take about 5 seconds."
   ]
  },
  {
   "cell_type": "code",
   "execution_count": 7,
   "metadata": {
    "ExecuteTime": {
     "end_time": "2019-01-28T11:10:09.998234Z",
     "start_time": "2019-01-28T11:10:05.607495Z"
    },
    "scrolled": true
   },
   "outputs": [],
   "source": [
    "train_set,dev_set = load_data(train_path,dev_path)"
   ]
  },
  {
   "cell_type": "markdown",
   "metadata": {},
   "source": [
    "Reducing Size of data for testing purposes"
   ]
  },
  {
   "cell_type": "code",
   "execution_count": 8,
   "metadata": {
    "ExecuteTime": {
     "end_time": "2019-01-28T11:10:18.194013Z",
     "start_time": "2019-01-28T11:10:18.191988Z"
    },
    "scrolled": true
   },
   "outputs": [],
   "source": [
    "# train_set = train_set[:10000]\n",
    "# dev_set = dev_set[:2000]"
   ]
  },
  {
   "cell_type": "markdown",
   "metadata": {},
   "source": [
    "## Tokenize Words\n",
    "\n",
    "Try the following also :-\n",
    "* Add features\n",
    "    - All capitals\n",
    "    - Position Tag on words\n",
    "* Lemmatize\n",
    "* Remove Stop Words and highly infrequent words\n",
    "* tfidf based weighting"
   ]
  },
  {
   "cell_type": "code",
   "execution_count": 9,
   "metadata": {
    "ExecuteTime": {
     "end_time": "2019-01-28T11:10:19.259583Z",
     "start_time": "2019-01-28T11:10:19.254792Z"
    },
    "scrolled": true
   },
   "outputs": [],
   "source": [
    "def correct_format(data):\n",
    "    X = []\n",
    "    Y = []\n",
    "    for item in tqdm(data):\n",
    "        Y.append(float(item['ratings']))\n",
    "        X.append(wordpunct_tokenize(item['review'].translate(translator)))\n",
    "    return X,Y"
   ]
  },
  {
   "cell_type": "markdown",
   "metadata": {},
   "source": [
    "https://stackoverflow.com/questions/50240029/nltk-wordpunct-tokenize-vs-word-tokenize"
   ]
  },
  {
   "cell_type": "code",
   "execution_count": 10,
   "metadata": {
    "ExecuteTime": {
     "end_time": "2019-01-28T11:11:04.568560Z",
     "start_time": "2019-01-28T11:10:22.080932Z"
    }
   },
   "outputs": [
    {
     "data": {
      "application/vnd.jupyter.widget-view+json": {
       "model_id": "ba844e2d80b1417c99f407a7697918af",
       "version_major": 2,
       "version_minor": 0
      },
      "text/plain": [
       "HBox(children=(IntProgress(value=0, max=1000000), HTML(value='')))"
      ]
     },
     "metadata": {},
     "output_type": "display_data"
    },
    {
     "name": "stdout",
     "output_type": "stream",
     "text": [
      "\n"
     ]
    },
    {
     "data": {
      "application/vnd.jupyter.widget-view+json": {
       "model_id": "2d110d549f5d45a9b7390e9d35ce4766",
       "version_major": 2,
       "version_minor": 0
      },
      "text/plain": [
       "HBox(children=(IntProgress(value=0, max=200000), HTML(value='')))"
      ]
     },
     "metadata": {},
     "output_type": "display_data"
    },
    {
     "name": "stdout",
     "output_type": "stream",
     "text": [
      "\n"
     ]
    }
   ],
   "source": [
    "X_train,Y_train = correct_format(train_set)\n",
    "X_dev, Y_dev = correct_format(dev_set)"
   ]
  },
  {
   "cell_type": "markdown",
   "metadata": {},
   "source": [
    "Sanity Check"
   ]
  },
  {
   "cell_type": "code",
   "execution_count": 16,
   "metadata": {
    "ExecuteTime": {
     "end_time": "2019-01-28T11:19:35.240003Z",
     "start_time": "2019-01-28T11:19:35.234498Z"
    },
    "scrolled": false
   },
   "outputs": [
    {
     "name": "stdout",
     "output_type": "stream",
     "text": [
      "Rating  2.0\n",
      "Tokenized Review ['Market', 'Co', 'is', 'a', 'beautiful', 'place', 'Every', 'is', 'well', 'designed', 'clean', 'and', 'shiny', 'new', 'But', 'for', 'us', 'it', 'was', 'lacking', 'Mainly', 'in', 'choice', 'They', 'bill', 'themselves', 'as', 'a', 'foodie', 'place', 'but', 'choice', 'is', 'very', 'limited', 'We', 'didn', 't', 'count', 'but', 'there', 's', 'maybe', 'a', 'dozen', 'vendors', 'in', 'total', 'several', 'of', 'those', 'being', 'restaurants', 'or', 'cafes', 'The', 'food', 'vendors', 'have', 'very', 'limited', 'selections', 'The', 'meat', 'vendor', 'probably', 'has', 'the', 'most', 'but', 'were', 'missing', 'several', 'things', 'we', 'd', 'expect', 'smoked', 'sausages', 'ground', 'lamb', 'pork', 'belly', 'Everything', 'seemed', 'to', 'be', 'good', 'quality', 'however', 'The', 'fish', 'monger', 'was', 'also', 'well', 'appointed', 'with', 'good', 'quality', 'stock', 'but', 'also', 'suffered', 'from', 'limited', 'selection', 'No', 'cheese', 'shop', 'though', 'the', 'butcher', 'had', 'some', 'The', 'fresh', 'produce', 'vendor', 'was', 'the', 'most', 'disappointing', 'Given', 'their', 'small', 'space', 'and', 'high', 'prices', 'one', 'would', 'expect', 'beautiful', 'produce', 'but', 'it', 'was', 'the', 'same', 'generic', 'food', 'terminal', 'fare', 'you', 'd', 'see', 'at', 'any', 'given', 'grocery', 'store', 'Pre', 'packaged', 'gourmet', 'foods', 'were', 'abundant', 'everywhere', 'Packaged', 'fancy', 'salts', 'sauces', 'condiments', 'and', 'so', 'on', 'Interesting', 'I', 'suppose', 'but', 'not', 'at', 'the', 'expense', 'of', 'more', 'fresh', 'produce', 'fish', 'meat', 'cheese', 'etc', 'There', 'is', 'definitely', 'an', 'argument', 'that', 'it', 's', 'good', 'to', 'have', 'a', 'beautiful', 'quality', 'place', 'where', 'people', 'in', 'the', 'NM', 'area', 'can', 'get', 'excited', 'about', 'food', 'But', 'given', 'the', 'selection', 'elsewhere', 'in', 'the', 'GTA', 'it', 'wasn', 't', 'a', 'good', 'fit', 'for', 'us', 'Too', 'limited', 'too', 'pricy']\n"
     ]
    },
    {
     "data": {
      "text/plain": [
       "['Market',\n",
       " 'Co',\n",
       " 'is',\n",
       " 'a',\n",
       " 'beautiful',\n",
       " 'place',\n",
       " 'Every',\n",
       " 'is',\n",
       " 'well',\n",
       " 'designed',\n",
       " 'clean',\n",
       " 'and',\n",
       " 'shiny',\n",
       " 'new',\n",
       " 'But',\n",
       " 'for',\n",
       " 'us',\n",
       " 'it',\n",
       " 'was',\n",
       " 'lacking',\n",
       " 'Mainly',\n",
       " 'in',\n",
       " 'choice',\n",
       " 'They',\n",
       " 'bill',\n",
       " 'themselves',\n",
       " 'as',\n",
       " 'a',\n",
       " 'foodie',\n",
       " 'place',\n",
       " 'but',\n",
       " 'choice',\n",
       " 'is',\n",
       " 'very',\n",
       " 'limited',\n",
       " 'We',\n",
       " 'didn',\n",
       " 't',\n",
       " 'count',\n",
       " 'but',\n",
       " 'there',\n",
       " 's',\n",
       " 'maybe',\n",
       " 'a',\n",
       " 'dozen',\n",
       " 'vendors',\n",
       " 'in',\n",
       " 'total',\n",
       " 'several',\n",
       " 'of',\n",
       " 'those',\n",
       " 'being',\n",
       " 'restaurants',\n",
       " 'or',\n",
       " 'cafes',\n",
       " 'The',\n",
       " 'food',\n",
       " 'vendors',\n",
       " 'have',\n",
       " 'very',\n",
       " 'limited',\n",
       " 'selections',\n",
       " 'The',\n",
       " 'meat',\n",
       " 'vendor',\n",
       " 'probably',\n",
       " 'has',\n",
       " 'the',\n",
       " 'most',\n",
       " 'but',\n",
       " 'were',\n",
       " 'missing',\n",
       " 'several',\n",
       " 'things',\n",
       " 'we',\n",
       " 'd',\n",
       " 'expect',\n",
       " 'smoked',\n",
       " 'sausages',\n",
       " 'ground',\n",
       " 'lamb',\n",
       " 'pork',\n",
       " 'belly',\n",
       " 'Everything',\n",
       " 'seemed',\n",
       " 'to',\n",
       " 'be',\n",
       " 'good',\n",
       " 'quality',\n",
       " 'however',\n",
       " 'The',\n",
       " 'fish',\n",
       " 'monger',\n",
       " 'was',\n",
       " 'also',\n",
       " 'well',\n",
       " 'appointed',\n",
       " 'with',\n",
       " 'good',\n",
       " 'quality',\n",
       " 'stock',\n",
       " 'but',\n",
       " 'also',\n",
       " 'suffered',\n",
       " 'from',\n",
       " 'limited',\n",
       " 'selection',\n",
       " 'No',\n",
       " 'cheese',\n",
       " 'shop',\n",
       " 'though',\n",
       " 'the',\n",
       " 'butcher',\n",
       " 'had',\n",
       " 'some',\n",
       " 'The',\n",
       " 'fresh',\n",
       " 'produce',\n",
       " 'vendor',\n",
       " 'was',\n",
       " 'the',\n",
       " 'most',\n",
       " 'disappointing',\n",
       " 'Given',\n",
       " 'their',\n",
       " 'small',\n",
       " 'space',\n",
       " 'and',\n",
       " 'high',\n",
       " 'prices',\n",
       " 'one',\n",
       " 'would',\n",
       " 'expect',\n",
       " 'beautiful',\n",
       " 'produce',\n",
       " 'but',\n",
       " 'it',\n",
       " 'was',\n",
       " 'the',\n",
       " 'same',\n",
       " 'generic',\n",
       " 'food',\n",
       " 'terminal',\n",
       " 'fare',\n",
       " 'you',\n",
       " 'd',\n",
       " 'see',\n",
       " 'at',\n",
       " 'any',\n",
       " 'given',\n",
       " 'grocery',\n",
       " 'store',\n",
       " 'Pre',\n",
       " 'packaged',\n",
       " 'gourmet',\n",
       " 'foods',\n",
       " 'were',\n",
       " 'abundant',\n",
       " 'everywhere',\n",
       " 'Packaged',\n",
       " 'fancy',\n",
       " 'salts',\n",
       " 'sauces',\n",
       " 'condiments',\n",
       " 'and',\n",
       " 'so',\n",
       " 'on',\n",
       " 'Interesting',\n",
       " 'I',\n",
       " 'suppose',\n",
       " 'but',\n",
       " 'not',\n",
       " 'at',\n",
       " 'the',\n",
       " 'expense',\n",
       " 'of',\n",
       " 'more',\n",
       " 'fresh',\n",
       " 'produce',\n",
       " 'fish',\n",
       " 'meat',\n",
       " 'cheese',\n",
       " 'etc',\n",
       " 'There',\n",
       " 'is',\n",
       " 'definitely',\n",
       " 'an',\n",
       " 'argument',\n",
       " 'that',\n",
       " 'it',\n",
       " 's',\n",
       " 'good',\n",
       " 'to',\n",
       " 'have',\n",
       " 'a',\n",
       " 'beautiful',\n",
       " 'quality',\n",
       " 'place',\n",
       " 'where',\n",
       " 'people',\n",
       " 'in',\n",
       " 'the',\n",
       " 'NM',\n",
       " 'area',\n",
       " 'can',\n",
       " 'get',\n",
       " 'excited',\n",
       " 'about',\n",
       " 'food',\n",
       " 'But',\n",
       " 'given',\n",
       " 'the',\n",
       " 'selection',\n",
       " 'elsewhere',\n",
       " 'in',\n",
       " 'the',\n",
       " 'GTA',\n",
       " 'it',\n",
       " 'wasn',\n",
       " 't',\n",
       " 'a',\n",
       " 'good',\n",
       " 'fit',\n",
       " 'for',\n",
       " 'us',\n",
       " 'Too',\n",
       " 'limited',\n",
       " 'too',\n",
       " 'pricy']"
      ]
     },
     "execution_count": 16,
     "metadata": {},
     "output_type": "execute_result"
    }
   ],
   "source": [
    "print('Rating ',Y_train[0])\n",
    "print('Tokenized Review',X_train[0])\n",
    "from nltk.tokenize import MWETokenizer\n",
    "tokenizer = MWETokenizer()\n",
    "tokenizer.tokenize(X_train[0])"
   ]
  },
  {
   "cell_type": "code",
   "execution_count": 14,
   "metadata": {
    "ExecuteTime": {
     "end_time": "2019-01-28T11:11:50.547845Z",
     "start_time": "2019-01-28T11:11:50.282636Z"
    }
   },
   "outputs": [
    {
     "data": {
      "image/png": "[encoded data removed]",
      "text/plain": [
       "<Figure size 432x288 with 1 Axes>"
      ]
     },
     "metadata": {
      "needs_background": "light"
     },
     "output_type": "display_data"
    }
   ],
   "source": [
    "range = (1, 5) \n",
    "bins = 5\n",
    "\n",
    "# plotting a histogram \n",
    "plt.hist(Y_train, bins, range, color = 'green', \n",
    "        histtype = 'bar', rwidth = 0.8) \n",
    "  \n",
    "# x-axis label \n",
    "plt.xlabel('Rating') \n",
    "# frequency label \n",
    "plt.ylabel('No. of reviews') \n",
    "# plot title \n",
    "plt.title('Histogram of number of ratings') \n",
    "  \n",
    "# function to show the plot \n",
    "plt.show() "
   ]
  },
  {
   "cell_type": "markdown",
   "metadata": {},
   "source": [
    "## Try Different Models\n",
    "\n",
    "* SVM Classifier\n",
    "* Random Forest\n",
    "* Logistic Regression\n",
    "    - L2 Norm\n",
    "    - L1 Norm\n",
    "* Try using existing models\n",
    "    - SentiWordNet\n",
    "    - General Inquirer"
   ]
  },
  {
   "cell_type": "code",
   "execution_count": null,
   "metadata": {
    "collapsed": true,
    "scrolled": true
   },
   "outputs": [],
   "source": []
  },
  {
   "cell_type": "code",
   "execution_count": null,
   "metadata": {
    "collapsed": true,
    "scrolled": true
   },
   "outputs": [],
   "source": []
  }
 ],
 "metadata": {
  "kernelspec": {
   "display_name": "Python 3",
   "language": "python",
   "name": "python3"
  },
  "language_info": {
   "codemirror_mode": {
    "name": "ipython",
    "version": 3
   },
   "file_extension": ".py",
   "mimetype": "text/x-python",
   "name": "python",
   "nbconvert_exporter": "python",
   "pygments_lexer": "ipython3",
   "version": "3.6.7"
  }
 },
 "nbformat": 4,
 "nbformat_minor": 2
}
